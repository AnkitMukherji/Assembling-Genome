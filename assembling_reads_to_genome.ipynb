{
 "cells": [
  {
   "cell_type": "markdown",
   "id": "64345da8",
   "metadata": {},
   "source": [
    "**String Composition Problem: Generate the k-mer composition of a string.**"
   ]
  },
  {
   "cell_type": "code",
   "execution_count": 3,
   "id": "e26d4e82",
   "metadata": {},
   "outputs": [],
   "source": [
    "def kmer_comp(Text, k):\n",
    "    kmers = []\n",
    "    for i in range(len(Text) - k + 1):\n",
    "        kmers.append(Text[i:i+k])\n",
    "        \n",
    "    return kmers # lexicographical order - sorted(kmers)"
   ]
  },
  {
   "cell_type": "code",
   "execution_count": 4,
   "id": "969ab89e",
   "metadata": {},
   "outputs": [],
   "source": [
    "Text = \"GTGGTTGGCAATCCAAACAAAGGCAGCGGTTTCTTCTCGGGGGCTAAGACAGTACTAGCAAATCAAGAATTCCACTGTACCCCCTGGCTATTGTCAGGAGTGCCGGGGGTATTAGTGGACTATATAGGTGTCTGATAAGTGAGCTAAACGAGGTATAAATATGAAGACGTGCAATTGTCCAACATCCCCGTGCCCTCACTGGCAACGTTCACCCCCGTGTGAGAAAATCCAGAACGTGTTGCGCTGCGGCTTCGATATCAGGTTAAAAGGCTGAAGACTACTAAACTCGCAGAATGGCTGCTATGGTCCCAGCAAAGGAAATAAATAGGGTCCAAACGCAGCAGACTTTCCCGTGAAGGCTAATACAGATAACAATATCTCTAACATAAGGCATTGAAGCACGGCGCTGCAAGTCTGCTGCCACCTATACTGCAGTATTGGTCAGTAGATGTTCATGGAGGCAAGTAACGAGCCCATATAGGATATCCTTCACGCCGTGCCGAGGACTAGGCGGCTCCCGCGGATACACACCCAAGGAATCGCTCTCCCCATGTTTATCACCCGCGCAGGGACAAGCGCGGAGTCCGCATGTGTGCTCGTTCCCTATTCGAAGATGGTACGCATCGCCCGCTCAAACGTACACCTACCCCCGTTCAAACACTACCTCGTTTTGTGTCTCTGGCTCCGCAAGTCGTGCATATTGGCTCCCGTCGTAAGGTGACAAACACACGGCGTGCGGGGCAACTTGGCCATGTAAGATCGTGGTGGCTCCCCGCCCACTAAGCGCGAGGGTTCGACAGCCCTCCCAGGCACTGAAAACGTAACCGCGTCGTCTGTGCACTCTACTAAACTCTCAACGCGGTCGGTTGTGCAATAAACAGGTTACAAAACGCACGGGCAACTCTTGCCAGTTGTCTTTCTAGAAGCTACCCCAGTAAGCAGTGTGGAGTTACCTTGCGACGGGGTCTTAGAGCAGTAACATTGGATTCGCTGTCGGAGTAGTGACGCGGGGCGACAGTTAGCTATTGGGGTCCACTCCGTTTGCTCCTCGGTTATTAGTGCGCGGCAATTCGCCACCTCCAAGGGCCACCCTGCTGGGGATACCCTTGGAAACTTAGGTTTACCCCCCGGCACATTTTACTAGCACTCACATTGAGGGGGTCGATCAATAGTCGGTATTGAGGCAATCTCATGCACCAACGGAAATTAGAGGGTTCCATCGACAATCTGGATAATCTACGTTGGATCGAGCTGAGTGCTACGTTGCTGTAGGGAATGTTGGCCGTACGAAGTTGTAAAGACCACTCTGGAGGTATCTTAACTCGCCGGCCCTCACGCTGCAGAACTATAAGTTCCCACGCAGGCCCGTCTCGAGACTACTATAGATCTGATCAGCCGCGGAGTTAATCCGCAGCTCAGGACCAAATTGCTTATAATAGCAGGATCGGTTCCCGCCATCCTACTATCACGTCGGTCTACTTCGTCGGGGTGGCACACACCGAGTTGACCTTCAAAAAGTTCTCCTATCCAGTATGAGGATACGTCGGGAAGTCAAACAGTTGGTTCTTATAATGCAATCACTCCAACTCCCAGTTCGCTGTCGTAAATCATTTCTGGAATTCGCAATATGTCACCTAGCAGATTTGTCCGAATTGCTCGTCACTTGGAAACACGGGATACTAGTAAGTCGATCCTTGGCTCGGGCCATAAGAAAATATGGGCCTGCACCACTCACTCCCACATCTTTGTCATGTGGTAGTCGTATGCCGCAATTTCAGACGTCGACGGGGCAAATGTAGAGTGCTGACTAATCGCTAAGCCGCAACTTTAAAGAGGGCCTAGGACGAGCAGGTCTGTTGCACTTAACAGGGCAATATAATAAACCTGGCCACAAGCAGCGATCCAGGCTCTTTGGCGACCACCCTCGCCAGTCTGTCTATATCGGATAGAACACTACCCCGGGGCGCCGGGCGCAGTATGTTTTAGATACACCGACGGGAGGCATACCGTATAGCGTACAAACTCTTGCTGCGCGTGTTATCCCCGCCGCCCGATCATAAAAATTCTTGCCAGCCGAGTAACACTCGCTCCCTAAGGAATCTAAACCATGTCTTGTCGACTTGCCTAAGTTCCCACCATCACAGGGGTCGATGCAGCGGCAGCAGTTACTATTGTGCTCTATGCACTAGTCGCGACGACATTACTTCCGCGCTTACCAAAGAGCCTGCAAAACGCGGTTGTGAAAAGGTAATAAGCATTAGCACAGCCAATAATCCCCCGTTTTGGCCCTCGACCCTCGAGCTAATAATATGTTAATTCGTAGGACCGTTGCTGTCATGCAGGTTTTACGAAGAAAAATTCACATAAACCCAACTCGTCAGGAACTAGCAGTTATAACCCGGATACACTCCCGGAGTAGTACGAATCGACCTGGCGTTAACGTACCACCCACTCACATTGAAACTGCGTAACCGCAAGCGTGGTGATGTCTGGCGAATAACCTAAGGCCATCTATCCGAGTCTCACTTGTTGGCACAGCTGTAACAGGGAAGTGAGTCGATTGAATCGCTCGAAGATATATGGTAATACTGTGCACTCAGTAAAAGCAGATACTTCTGGCTTGATCGGCAGTGCGACGGAGGATCGAACCTTTCGTAACGGAAAATAGAATACCATTTCTAAACCGAGAGAGAACGCGAATATCGGAAGTACACCTTTAAGAGTCTTTTGTTTAAAGATACCAGCAACTCACCTACGCGTAACGTTGAAAGTTGCGCGGGTCAGCGGAGGACCCATCGGTTCGCGGAATGATTTTCTCGACGCTAGGTGTGGAGCGTTTGTTCTAAACTGTCAAGATCCCACCTAGAATCTACTCTACCATTCGGGTTGGACAGACCTGATACGACATTCAGTGCATCGTCGTTATGGCCTACGCGAAGTTCCGCATCAAGCAACGGTCACTAACGCACAAGATGCCGTTCTGTCTCTCTTCGCAGAGTGACTTAGCAAGGAAACGCTCTGTGAGTGCATATTTCGGGAGCCCTACTCAGACTGCCAATCCGCACCACTGGAATATATAACTCGGGTTCCCTTCATTCCATGAGTGAGATGAGTAAGAGCCTTTAGGGTTCTGAAATCAGCTTATCCGTTGGGTCAAAAAAGGGGATCAGTGCGCAAGAATACCTAAAACCAAGTTTCTCTGGGATCTAATGACCGTTCAGCGCTTATGTGCAAGTCCTCTAGCTTTGTGGCGCTGCGCTCGTCCATGGCCTAACGCGATAACGCCCCGTTCGCTGCCGGCTCAGAAGAAGTATTGGCTATACCCTCAGATATGCAACTAGACCCGGTCGCTAAGCCAACATCGAGAAGTTGCAAAGAGGAACCCGCCCCTAATGCCGCCTCCTTCTTGGAAACGAATTAGTGGCCTGCCGTCCTCACAAATGCGCAAGCCGCCTGGAAGGCATTCTAACCTCCGAGTACTTTTAGACTAAGGTAAAGATGACTACCCCATACTCGGTGTGTCACTCCTGTGCGGCCCTGACCCGCGGCCTGCACCAAGCCGGCGATCCTCCGTCACTAAGGAGGATACAGGACGGAAGGCAGGTGAACGGGGGATGTCTTCTCCTCTTTGCCGAGGGGCTCGGGGCATAGGTAGTTAAAGTTAATACTTAATTCACTACTGCACGCGGAGAGTTATTTGCCAGGTCGGCCGTGAGCGGTGTAAAGAAAAATACTTCGCAGGGGGGGTAAGAATGGGACGAAGCGACGGTCTCAGGCTGTGCATGGACCCGGTATTTAGGATGTGCCGTTCCTCTGTGTCCTACAATCTATGTCCCTACGAGGGCACCCCAGTGCAGGCCGCCGTCACAACTCTGCACGAGTGGTACAACATTGGCTTCTTAAGCCTAAATTGACTTTCATTCGCAGTCGTGATACTTCACGCTCTATCGTGCGAGCCGTGTCCATCGGAATTGGTTTATGCACCTATTCATCCGGCACAGCGGTATTGGGAGCTCTCACTGCTATCCAGACTTGTTCGCCAGGAGCCTCAGCAACCCCTCTAGCTAGTCGGGCAATGAACGCGCACTTTCGTGCATACTGCTCTATGTTAGTTGTGCCGCCGAGATCCCATTATTTCTTAAGGTTGACCCTACACATCAGATTCTAAACCGCATCTCTCCGGTGTGGCATAGCCATATCCAGCCCGCCTTGCGCACACGCTGGAAAATTACACCAGTTGGGCAGGAGCCGCACCGACTTCTGGGCGGGGACTAACGCCATCACGCGATTATGATGTGACTGCTTGCACCTCGCACGATCCCACGGTTGGGCGATTTCAGTTGGTCGGCCAAGTAAGACCCATCGAACTTTAACACGGGCGGCTAAATTATTCAGTCACGGTCAACCAAGTTGCAAAATACCAAATTCCGCTACTTTATGGTATTTAATCTTAACGAGGAAACGTAGCTGCACACGGCACACAGGACATGCTGACGTAGACGAAGTTCAGCACGTCCAGCATCTCCAATTGAGCCGCGTGTTATTGAGCATGCATATTTCGGAACACCGCTGATCACCACGTGATCGATGTCGGGGCTCGAATGGGTCCTGCGTTATATTGTTTGACAGCCTGCTAGTTAACCCCGGGGTACTACACTCTACGCCGTAGCGCATTGCCAGGTTCCGGTGCTACGTGCGTTTTCACTCTAACCCCGACTGTGCCGACTTGTATATCGACCGCGAACACTGTGAAAATATAATTATTAGTTTTCCTAAGCGAATACCCAGGCGATAAGACTAAAGAGAAGAAAACCATTATCAATCGCAGTTTCCTTCGTACCGGTGACTGATAAGCCATGCGCGATGGTGGGAACGCGTATGATCGACGGTACAACACCACGTGGTGGTGCATGTGGACTCACACCGAAGATCCTATTTGGAGCTTGACCTAATTAGCTCTATTGTGTATTTGGAGGCTGTTCTGTTTCTGGCAGGTGCAA\"\n",
    "k = 100\n",
    "kmers = open(\"kmers.txt\", \"w\")\n",
    "kmers.write(' '.join(kmer_comp(Text, k)))\n",
    "kmers.close()"
   ]
  },
  {
   "cell_type": "markdown",
   "id": "c3cd1dcf",
   "metadata": {},
   "source": [
    "**String Spelled by a Genome Path Problem. Reconstruct a string from its genome path.**"
   ]
  },
  {
   "cell_type": "code",
   "execution_count": 5,
   "id": "10eb5236",
   "metadata": {},
   "outputs": [],
   "source": [
    "def PathtoGenome(path):\n",
    "    kmers = path.split()\n",
    "    genome = kmers[0]\n",
    "    for i in kmers:\n",
    "        for j in kmers:\n",
    "            if i != j:\n",
    "                if i[1:] == j[0:len(i) - 1]:\n",
    "                    genome += j[-1]\n",
    "\n",
    "    return genome"
   ]
  },
  {
   "cell_type": "markdown",
   "id": "d5eafd26",
   "metadata": {},
   "source": [
    "**or simply as the path is given:**"
   ]
  },
  {
   "cell_type": "code",
   "execution_count": 3,
   "id": "300500d9",
   "metadata": {},
   "outputs": [],
   "source": [
    "def PathtoGenome(path):\n",
    "    kmers = path.split()\n",
    "    genome = kmers[0]\n",
    "    for i in range(len(kmers) - 1):\n",
    "        genome += kmers[i+1][-1]\n",
    "\n",
    "    return genome"
   ]
  },
  {
   "cell_type": "code",
   "execution_count": 7,
   "id": "33c05648",
   "metadata": {},
   "outputs": [],
   "source": [
    "path = open(\"path.txt\").read()\n",
    "genomefrompath = open(\"genome.txt\", \"w\")\n",
    "genomefrompath.write(PathtoGenome(path))\n",
    "genomefrompath.close()"
   ]
  },
  {
   "cell_type": "markdown",
   "id": "db0b45d8",
   "metadata": {},
   "source": [
    "**Overlap Graph Problem**"
   ]
  },
  {
   "cell_type": "code",
   "execution_count": 57,
   "id": "056ccad1",
   "metadata": {},
   "outputs": [],
   "source": [
    "def OverlapGraph(nodes):\n",
    "    kmers = nodes.split()\n",
    "    directed_graph = {}\n",
    "    \n",
    "    for i in kmers:\n",
    "        suffix = []\n",
    "        for j in kmers:\n",
    "            if i != j:\n",
    "                if i[1:] == j[0:len(i) - 1]:\n",
    "                    suffix.append(j)\n",
    "                    directed_graph[i] = suffix\n",
    "\n",
    "    return directed_graph"
   ]
  },
  {
   "cell_type": "code",
   "execution_count": 62,
   "id": "cae70c84",
   "metadata": {},
   "outputs": [],
   "source": [
    "nodes = open(\"kmers_overlap_graph.txt\", \"r\").read()\n",
    "with open(\"overlap_graph.txt\", 'w') as file:\n",
    "    result_dict = OverlapGraph(nodes)\n",
    "    for key, value in result_dict.items():\n",
    "        formatted_value = ' '.join(value)\n",
    "        file.write(f\"{key}: {formatted_value}\\n\")"
   ]
  },
  {
   "cell_type": "markdown",
   "id": "e0170d27",
   "metadata": {},
   "source": [
    "**De Bruijn Graph from a String Problem:**"
   ]
  },
  {
   "cell_type": "code",
   "execution_count": 35,
   "id": "aed06f58",
   "metadata": {},
   "outputs": [],
   "source": [
    "from collections import defaultdict, OrderedDict\n",
    "\n",
    "def DeBruijnGraph(Text, k):\n",
    "  de_bruijn_graph = defaultdict(list)\n",
    "  for i in range(len(Text) - k + 1):\n",
    "    kmer = Text[i:i+k]\n",
    "    prefix = kmer[:k-1]\n",
    "    suffix = kmer[1:]\n",
    "    de_bruijn_graph[prefix].append(suffix)\n",
    "    \n",
    "  return OrderedDict(sorted(de_bruijn_graph.items()))"
   ]
  },
  {
   "cell_type": "code",
   "execution_count": 37,
   "id": "816d243f",
   "metadata": {},
   "outputs": [],
   "source": [
    "k = int(open(\"string.txt\", \"r\").readlines()[0])\n",
    "Text = open(\"string.txt\", \"r\").readlines()[1].strip()\n",
    "with open(\"de_bruijn_graph.txt\", 'w') as file:\n",
    "    result_dict = DeBruijnGraph(Text, k)\n",
    "    for key, value in result_dict.items():\n",
    "        formatted_value = ' '.join(value)\n",
    "        file.write(f\"{key}: {formatted_value}\\n\")\n",
    "\n",
    "file.close()"
   ]
  },
  {
   "cell_type": "markdown",
   "id": "40ce7d38",
   "metadata": {},
   "source": [
    "**DeBruijn Graph from k-mers Problem: Construct the de Bruijn graph from a set of k-mers.**"
   ]
  },
  {
   "cell_type": "code",
   "execution_count": 5,
   "id": "66127ca6",
   "metadata": {},
   "outputs": [],
   "source": [
    "from collections import defaultdict, OrderedDict\n",
    "\n",
    "def DeBruijnGraph_from_kmers(kmers):\n",
    "  de_bruijn_graph = defaultdict(list)\n",
    "  for i in kmers.split():\n",
    "    prefix = i[:len(i)-1]\n",
    "    suffix = i[1:]\n",
    "    de_bruijn_graph[prefix].append(suffix)\n",
    "    \n",
    "  return OrderedDict(sorted(de_bruijn_graph.items()))"
   ]
  },
  {
   "cell_type": "code",
   "execution_count": 6,
   "id": "4156d0f6",
   "metadata": {},
   "outputs": [],
   "source": [
    "kmers = open(\"kmers_unordered.txt\", \"r\").read().strip()\n",
    "with open(\"de_bruijn_graph_from_kmers.txt\", 'w') as file:\n",
    "    result_dict = DeBruijnGraph_from_kmers(kmers)\n",
    "    for key, value in result_dict.items():\n",
    "        formatted_value = ' '.join(value)\n",
    "        file.write(f\"{key}: {formatted_value}\\n\")\n",
    "\n",
    "file.close()"
   ]
  },
  {
   "cell_type": "markdown",
   "id": "14e62eb2",
   "metadata": {},
   "source": [
    "**Eulerian Cycle Problem:**"
   ]
  },
  {
   "cell_type": "code",
   "execution_count": 81,
   "id": "23770840",
   "metadata": {},
   "outputs": [],
   "source": [
    "def read_adjacency_list(filename):\n",
    "    graph = {}\n",
    "    with open(filename, 'r') as file:\n",
    "        for line in file:\n",
    "            parts = line.strip().split(':')\n",
    "            node = int(parts[0])\n",
    "            neighbors = list(map(int, parts[1].split()))\n",
    "            graph[node] = neighbors\n",
    "    return graph\n",
    "\n",
    "filename = \"adjacency_list_euler.txt\"\n",
    "graph = read_adjacency_list(filename)"
   ]
  },
  {
   "cell_type": "code",
   "execution_count": 82,
   "id": "c74b2780",
   "metadata": {},
   "outputs": [],
   "source": [
    "import random\n",
    "\n",
    "def eulerian_cycle(graph):\n",
    "    if not graph:\n",
    "        raise ValueError(\"The graph is empty.\")\n",
    "\n",
    "    current_node = random.choice(list(graph.keys()))\n",
    "    path = [current_node]\n",
    "    \n",
    "    while True:\n",
    "        if current_node not in graph or not graph[current_node]:\n",
    "            break\n",
    "        next_node = graph[current_node][0]\n",
    "        path.append(next_node)\n",
    "        \n",
    "        if len(graph[current_node]) == 1:\n",
    "            del graph[current_node]\n",
    "        else:\n",
    "            graph[current_node] = graph[current_node][1:]\n",
    "        \n",
    "        current_node = next_node\n",
    "\n",
    "    while len(graph) > 0:\n",
    "        for i in range(len(path)):\n",
    "            if path[i] in graph:\n",
    "                current_node = path[i]\n",
    "                cycle = [current_node]\n",
    "                while True:\n",
    "                    if current_node not in graph or not graph[current_node]:\n",
    "                        break\n",
    "                    next_node = graph[current_node][0]\n",
    "                    cycle.append(next_node)\n",
    "\n",
    "                    if len(graph[current_node]) == 1:\n",
    "                        del graph[current_node]\n",
    "                    else:\n",
    "                        graph[current_node] = graph[current_node][1:]\n",
    "                    \n",
    "                    current_node = next_node\n",
    "\n",
    "                path = path[:i] + cycle + path[i+1:]\n",
    "                break\n",
    "\n",
    "    return path"
   ]
  },
  {
   "cell_type": "code",
   "execution_count": 83,
   "id": "2ff8e7b7",
   "metadata": {},
   "outputs": [],
   "source": [
    "eulerian_cycle_result = eulerian_cycle(graph)\n",
    "with open('eulerian_cycle.txt', 'w') as output_data:\n",
    "    output_data.write(' '.join(map(str, eulerian_cycle_result)))\n",
    "\n",
    "output_data.close()"
   ]
  },
  {
   "cell_type": "markdown",
   "id": "5b977b01",
   "metadata": {},
   "source": [
    "**Eulerian Path Problem**"
   ]
  },
  {
   "cell_type": "code",
   "execution_count": 77,
   "id": "411cb1e2",
   "metadata": {},
   "outputs": [],
   "source": [
    "def read_adjacency_list(filename):\n",
    "    graph = {}\n",
    "    with open(filename, 'r') as file:\n",
    "        for line in file:\n",
    "            parts = line.strip().split(':')\n",
    "            node = int(parts[0])\n",
    "            neighbors = list(map(int, parts[1].split()))\n",
    "            graph[node] = neighbors\n",
    "    return graph\n",
    "\n",
    "filename = \"adjacency_list_euler.txt\"\n",
    "graph = read_adjacency_list(filename)"
   ]
  },
  {
   "cell_type": "code",
   "execution_count": 78,
   "id": "bff01c75",
   "metadata": {},
   "outputs": [],
   "source": [
    "def check_balance(graph):\n",
    "    incoming_edges = 0\n",
    "    outgoing_edges = 0\n",
    "    start_nodes = []\n",
    "    for i, j in graph.items():\n",
    "        outgoing_edges = len(j)\n",
    "        for k in graph.values():\n",
    "            if i in k:\n",
    "                incoming_edges += 1\n",
    "        if outgoing_edges > incoming_edges:\n",
    "            start_nodes.append(i)\n",
    "        incoming_edges = 0\n",
    "\n",
    "    return start_nodes"
   ]
  },
  {
   "cell_type": "code",
   "execution_count": 79,
   "id": "b61cbb72",
   "metadata": {},
   "outputs": [],
   "source": [
    "import random\n",
    "\n",
    "def eulerian_path(graph):\n",
    "    if not graph:\n",
    "        raise ValueError(\"The graph is empty.\")\n",
    "\n",
    "    start_nodes  = check_balance(graph) # type: ignore\n",
    "    if len(start_nodes) > 0:\n",
    "        print(\"The graph is unbalanced and will form an Eulerian Path, not an Eulerian Cycle\")\n",
    "        current_node = random.choice(start_nodes)\n",
    "        path = [current_node]\n",
    "        \n",
    "        while True:\n",
    "            if current_node not in graph or not graph[current_node]:\n",
    "                break\n",
    "            next_node = graph[current_node][0]\n",
    "            path.append(next_node)\n",
    "            \n",
    "            if len(graph[current_node]) == 1:\n",
    "                del graph[current_node]\n",
    "            else:\n",
    "                graph[current_node] = graph[current_node][1:]\n",
    "            \n",
    "            current_node = next_node\n",
    "\n",
    "        while len(graph) > 0:\n",
    "            for i in range(len(path)):\n",
    "                if path[i] in graph:\n",
    "                    current_node = path[i]\n",
    "                    cycle = [current_node]\n",
    "                    while True:\n",
    "                        if current_node not in graph or not graph[current_node]:\n",
    "                            break\n",
    "                        next_node = graph[current_node][0]\n",
    "                        cycle.append(next_node)\n",
    "\n",
    "                        if len(graph[current_node]) == 1:\n",
    "                            del graph[current_node]\n",
    "                        else:\n",
    "                            graph[current_node] = graph[current_node][1:]\n",
    "                        \n",
    "                        current_node = next_node\n",
    "\n",
    "                    path = path[:i] + cycle + path[i+1:]\n",
    "                    break\n",
    "\n",
    "        return path\n",
    "    else:\n",
    "        print(\"The graph is balanced and will form an Eulerian Cycle, not an Eulerian Path\")\n",
    "        return eulerian_cycle(graph)"
   ]
  },
  {
   "cell_type": "code",
   "execution_count": 80,
   "id": "7e8a7afe",
   "metadata": {},
   "outputs": [
    {
     "name": "stdout",
     "output_type": "stream",
     "text": [
      "The graph is unbalanced and will form an Eulerian Path, not an Eulerian Cycle\n"
     ]
    }
   ],
   "source": [
    "eulerian_path_result = eulerian_path(graph)\n",
    "with open('eulerian_path.txt', 'w') as output_data:\n",
    "    output_data.write(' '.join(map(str, eulerian_path_result)))\n",
    "\n",
    "output_data.close()"
   ]
  },
  {
   "cell_type": "markdown",
   "id": "bfeacaf8",
   "metadata": {},
   "source": [
    "**String Reconstruction Problem: Combining all of the above**"
   ]
  },
  {
   "cell_type": "code",
   "execution_count": 108,
   "id": "bd6ec03a",
   "metadata": {},
   "outputs": [],
   "source": [
    "from collections import defaultdict, OrderedDict\n",
    "def DeBruijnGraph_from_kmers(kmers):\n",
    "  de_bruijn_graph = defaultdict(list)\n",
    "  for i in kmers.split():\n",
    "    prefix = i[:len(i)-1]\n",
    "    suffix = i[1:]\n",
    "    de_bruijn_graph[prefix].append(suffix)\n",
    "    \n",
    "  return OrderedDict(de_bruijn_graph.items())"
   ]
  },
  {
   "cell_type": "code",
   "execution_count": 109,
   "id": "cc4b6344",
   "metadata": {},
   "outputs": [],
   "source": [
    "kmers = open(\"reads_string_reconstruction.txt\", \"r\").readlines()[1]\n",
    "with open(\"de_bruijn_graph_from_reads.txt\", 'w') as file:\n",
    "    result_dict = DeBruijnGraph_from_kmers(kmers)\n",
    "    for key, value in result_dict.items():\n",
    "        formatted_value = ' '.join(value)\n",
    "        file.write(f\"{key}: {formatted_value}\\n\")\n",
    "\n",
    "file.close()"
   ]
  },
  {
   "cell_type": "code",
   "execution_count": 110,
   "id": "856746a7",
   "metadata": {},
   "outputs": [],
   "source": [
    "def read_adjacency_list(filename):\n",
    "    graph = {}\n",
    "    with open(filename, 'r') as file:\n",
    "        for line in file:\n",
    "            parts = line.strip().split(':')\n",
    "            node = str(parts[0])\n",
    "            neighbors = list(map(str, parts[1].split()))\n",
    "            graph[node] = neighbors\n",
    "    return graph\n",
    "\n",
    "filename = \"de_bruijn_graph_from_reads.txt\"\n",
    "graph = read_adjacency_list(filename)"
   ]
  },
  {
   "cell_type": "code",
   "execution_count": 111,
   "id": "0a157754",
   "metadata": {},
   "outputs": [],
   "source": [
    "def check_balance(graph):\n",
    "    incoming_edges = 0\n",
    "    outgoing_edges = 0\n",
    "    start_nodes = []\n",
    "    for i, j in graph.items():\n",
    "        outgoing_edges = len(j)\n",
    "        for k in graph.values():\n",
    "            if i in k:\n",
    "                incoming_edges += 1\n",
    "        if outgoing_edges > incoming_edges:\n",
    "            start_nodes.append(i)\n",
    "        incoming_edges = 0\n",
    "\n",
    "    return start_nodes"
   ]
  },
  {
   "cell_type": "code",
   "execution_count": 112,
   "id": "8d0e841b",
   "metadata": {},
   "outputs": [],
   "source": [
    "import random\n",
    "\n",
    "def eulerian_path(graph):\n",
    "    if not graph:\n",
    "        raise ValueError(\"The graph is empty.\")\n",
    "\n",
    "    start_nodes  = check_balance(graph) # type: ignore\n",
    "    if len(start_nodes) > 0:\n",
    "        print(\"The graph is unbalanced and will form an Eulerian Path, not an Eulerian Cycle\")\n",
    "        current_node = random.choice(start_nodes)\n",
    "        path = [current_node]\n",
    "        \n",
    "        while True:\n",
    "            if current_node not in graph or not graph[current_node]:\n",
    "                break\n",
    "            next_node = graph[current_node][0]\n",
    "            path.append(next_node)\n",
    "            \n",
    "            if len(graph[current_node]) == 1:\n",
    "                del graph[current_node]\n",
    "            else:\n",
    "                graph[current_node] = graph[current_node][1:]\n",
    "            \n",
    "            current_node = next_node\n",
    "\n",
    "        while len(graph) > 0:\n",
    "            for i in range(len(path)):\n",
    "                if path[i] in graph:\n",
    "                    current_node = path[i]\n",
    "                    cycle = [current_node]\n",
    "                    while True:\n",
    "                        if current_node not in graph or not graph[current_node]:\n",
    "                            break\n",
    "                        next_node = graph[current_node][0]\n",
    "                        cycle.append(next_node)\n",
    "\n",
    "                        if len(graph[current_node]) == 1:\n",
    "                            del graph[current_node]\n",
    "                        else:\n",
    "                            graph[current_node] = graph[current_node][1:]\n",
    "                        \n",
    "                        current_node = next_node\n",
    "\n",
    "                    path = path[:i] + cycle + path[i+1:]\n",
    "                    break\n",
    "\n",
    "        return path\n",
    "    else:\n",
    "        print(\"The graph is balanced and will form an Eulerian Cycle, not an Eulerian Path\")\n",
    "        return eulerian_cycle(graph)"
   ]
  },
  {
   "cell_type": "code",
   "execution_count": 113,
   "id": "87842ae8",
   "metadata": {},
   "outputs": [
    {
     "name": "stdout",
     "output_type": "stream",
     "text": [
      "The graph is unbalanced and will form an Eulerian Path, not an Eulerian Cycle\n"
     ]
    }
   ],
   "source": [
    "eulerian_path_result = eulerian_path(graph)\n",
    "with open('eulerian_path_from_debruijn_graph.txt', 'w') as output_data:\n",
    "    output_data.write(' '.join(map(str, eulerian_path_result)))\n",
    "\n",
    "output_data.close()"
   ]
  },
  {
   "cell_type": "code",
   "execution_count": 117,
   "id": "5c44dd44",
   "metadata": {},
   "outputs": [],
   "source": [
    "directed_reads = open('eulerian_path_from_debruijn_graph.txt', 'r').read().split()\n",
    "string_reconstruction = directed_reads[0]\n",
    "for i in directed_reads[1:]:\n",
    "    string_reconstruction += i[-1]\n",
    "\n",
    "with open('genome_reconstructed.txt', 'w') as output_data:\n",
    "    output_data.write(''.join(map(str, string_reconstruction)))\n",
    "\n",
    "output_data.close()"
   ]
  },
  {
   "cell_type": "markdown",
   "id": "5e6301b8",
   "metadata": {},
   "source": [
    "**k-Universal Circular String Problem**"
   ]
  },
  {
   "cell_type": "code",
   "execution_count": 34,
   "id": "500c6d54",
   "metadata": {},
   "outputs": [],
   "source": [
    "def generate_binary_kmers(k):\n",
    "    if k == 0:\n",
    "        return ['']\n",
    "    else:\n",
    "        kmers_with_zero = [kmer + '0' for kmer in generate_binary_kmers(k - 1)]\n",
    "        kmers_with_one = [kmer + '1' for kmer in generate_binary_kmers(k - 1)]\n",
    "        return kmers_with_zero + kmers_with_one\n",
    "\n",
    "k = 9\n",
    "binary_kmers = generate_binary_kmers(k)"
   ]
  },
  {
   "cell_type": "code",
   "execution_count": 35,
   "id": "2a7f97a8",
   "metadata": {},
   "outputs": [],
   "source": [
    "from collections import defaultdict, OrderedDict\n",
    "def DeBruijnGraph_from_kmers(kmers):\n",
    "  de_bruijn_graph = defaultdict(list)\n",
    "  for i in kmers:\n",
    "    prefix = i[:len(i)-1]\n",
    "    suffix = i[1:]\n",
    "    de_bruijn_graph[prefix].append(suffix)\n",
    "    \n",
    "  return OrderedDict(de_bruijn_graph.items())"
   ]
  },
  {
   "cell_type": "code",
   "execution_count": 36,
   "id": "1462d81a",
   "metadata": {},
   "outputs": [],
   "source": [
    "import random\n",
    "\n",
    "def eulerian_cycle(graph):\n",
    "    if not graph:\n",
    "        raise ValueError(\"The graph is empty.\")\n",
    "\n",
    "    current_node = random.choice(list(graph.keys()))\n",
    "    path = [current_node]\n",
    "    \n",
    "    while True:\n",
    "        if current_node not in graph or not graph[current_node]:\n",
    "            break\n",
    "        next_node = graph[current_node][0]\n",
    "        path.append(next_node)\n",
    "        \n",
    "        if len(graph[current_node]) == 1:\n",
    "            del graph[current_node]\n",
    "        else:\n",
    "            graph[current_node] = graph[current_node][1:]\n",
    "        \n",
    "        current_node = next_node\n",
    "\n",
    "    while len(graph) > 0:\n",
    "        for i in range(len(path)):\n",
    "            if path[i] in graph:\n",
    "                current_node = path[i]\n",
    "                cycle = [current_node]\n",
    "                while True:\n",
    "                    if current_node not in graph or not graph[current_node]:\n",
    "                        break\n",
    "                    next_node = graph[current_node][0]\n",
    "                    cycle.append(next_node)\n",
    "\n",
    "                    if len(graph[current_node]) == 1:\n",
    "                        del graph[current_node]\n",
    "                    else:\n",
    "                        graph[current_node] = graph[current_node][1:]\n",
    "                    \n",
    "                    current_node = next_node\n",
    "\n",
    "                path = path[:i] + cycle + path[i+1:]\n",
    "                break\n",
    "\n",
    "    return path"
   ]
  },
  {
   "cell_type": "code",
   "execution_count": 37,
   "id": "3fe52817",
   "metadata": {},
   "outputs": [],
   "source": [
    "debruijn_graph = DeBruijnGraph_from_kmers(binary_kmers)\n",
    "cycle = eulerian_cycle(debruijn_graph)\n",
    "circular_string = cycle[0]\n",
    "for i in cycle[1:-k + 1]: # As it is a circular string, we need not require the nodes of the entire cycle\n",
    "    circular_string += i[-1]\n",
    "\n",
    "with open('circular_string.txt', 'w') as output_file:\n",
    "    output_file.write(circular_string)\n",
    "\n",
    "output_file.close()"
   ]
  },
  {
   "cell_type": "markdown",
   "id": "2b638e5c",
   "metadata": {},
   "source": [
    "**Generate (k,d)-mer composition of a string**"
   ]
  },
  {
   "cell_type": "code",
   "execution_count": 10,
   "id": "c53548a5",
   "metadata": {},
   "outputs": [
    {
     "data": {
      "text/plain": [
       "'(AAT|CAT)(ATG|ATG)(ATG|ATG)(CAT|GAT)(CCA|GGA)(GCC|GGG)(GGA|TT)(GGG|GTT)(TAA|CCA)(TGC|TGG)(TGG|TGT)'"
      ]
     },
     "execution_count": 10,
     "metadata": {},
     "output_type": "execute_result"
    }
   ],
   "source": [
    "def paired_composition(Text, k, d):\n",
    "    read_pairs = []\n",
    "    for i in range(len(Text) - 2 * k):\n",
    "        read_pairs.append(\"(\" + Text[i:i+k] + \"|\" + Text[i+k+d:i+2*k+d] + \")\")\n",
    "\n",
    "    return ''.join(sorted(read_pairs))\n",
    "\n",
    "Text = \"TAATGCCATGGGATGTT\"\n",
    "k = 3\n",
    "d = 2\n",
    "paired_composition(Text, k, d)"
   ]
  },
  {
   "cell_type": "code",
   "execution_count": null,
   "id": "4fbc4d9f",
   "metadata": {},
   "outputs": [],
   "source": []
  }
 ],
 "metadata": {
  "kernelspec": {
   "display_name": "Python 3 (ipykernel)",
   "language": "python",
   "name": "python3"
  },
  "language_info": {
   "codemirror_mode": {
    "name": "ipython",
    "version": 3
   },
   "file_extension": ".py",
   "mimetype": "text/x-python",
   "name": "python",
   "nbconvert_exporter": "python",
   "pygments_lexer": "ipython3",
   "version": "3.11.4"
  }
 },
 "nbformat": 4,
 "nbformat_minor": 5
}
