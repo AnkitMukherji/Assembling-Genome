{
 "cells": [
  {
   "cell_type": "markdown",
   "id": "64345da8",
   "metadata": {},
   "source": [
    "**String Composition Problem: Generate the k-mer composition of a string.**"
   ]
  },
  {
   "cell_type": "code",
   "execution_count": 3,
   "id": "e26d4e82",
   "metadata": {},
   "outputs": [],
   "source": [
    "def kmer_comp(Text, k):\n",
    "    kmers = []\n",
    "    for i in range(len(Text) - k + 1):\n",
    "        kmers.append(Text[i:i+k])\n",
    "        \n",
    "    return kmers # lexicographical order - sorted(kmers)"
   ]
  },
  {
   "cell_type": "code",
   "execution_count": 4,
   "id": "969ab89e",
   "metadata": {},
   "outputs": [],
   "source": [
    "Text = \"GTGGTTGGCAATCCAAACAAAGGCAGCGGTTTCTTCTCGGGGGCTAAGACAGTACTAGCAAATCAAGAATTCCACTGTACCCCCTGGCTATTGTCAGGAGTGCCGGGGGTATTAGTGGACTATATAGGTGTCTGATAAGTGAGCTAAACGAGGTATAAATATGAAGACGTGCAATTGTCCAACATCCCCGTGCCCTCACTGGCAACGTTCACCCCCGTGTGAGAAAATCCAGAACGTGTTGCGCTGCGGCTTCGATATCAGGTTAAAAGGCTGAAGACTACTAAACTCGCAGAATGGCTGCTATGGTCCCAGCAAAGGAAATAAATAGGGTCCAAACGCAGCAGACTTTCCCGTGAAGGCTAATACAGATAACAATATCTCTAACATAAGGCATTGAAGCACGGCGCTGCAAGTCTGCTGCCACCTATACTGCAGTATTGGTCAGTAGATGTTCATGGAGGCAAGTAACGAGCCCATATAGGATATCCTTCACGCCGTGCCGAGGACTAGGCGGCTCCCGCGGATACACACCCAAGGAATCGCTCTCCCCATGTTTATCACCCGCGCAGGGACAAGCGCGGAGTCCGCATGTGTGCTCGTTCCCTATTCGAAGATGGTACGCATCGCCCGCTCAAACGTACACCTACCCCCGTTCAAACACTACCTCGTTTTGTGTCTCTGGCTCCGCAAGTCGTGCATATTGGCTCCCGTCGTAAGGTGACAAACACACGGCGTGCGGGGCAACTTGGCCATGTAAGATCGTGGTGGCTCCCCGCCCACTAAGCGCGAGGGTTCGACAGCCCTCCCAGGCACTGAAAACGTAACCGCGTCGTCTGTGCACTCTACTAAACTCTCAACGCGGTCGGTTGTGCAATAAACAGGTTACAAAACGCACGGGCAACTCTTGCCAGTTGTCTTTCTAGAAGCTACCCCAGTAAGCAGTGTGGAGTTACCTTGCGACGGGGTCTTAGAGCAGTAACATTGGATTCGCTGTCGGAGTAGTGACGCGGGGCGACAGTTAGCTATTGGGGTCCACTCCGTTTGCTCCTCGGTTATTAGTGCGCGGCAATTCGCCACCTCCAAGGGCCACCCTGCTGGGGATACCCTTGGAAACTTAGGTTTACCCCCCGGCACATTTTACTAGCACTCACATTGAGGGGGTCGATCAATAGTCGGTATTGAGGCAATCTCATGCACCAACGGAAATTAGAGGGTTCCATCGACAATCTGGATAATCTACGTTGGATCGAGCTGAGTGCTACGTTGCTGTAGGGAATGTTGGCCGTACGAAGTTGTAAAGACCACTCTGGAGGTATCTTAACTCGCCGGCCCTCACGCTGCAGAACTATAAGTTCCCACGCAGGCCCGTCTCGAGACTACTATAGATCTGATCAGCCGCGGAGTTAATCCGCAGCTCAGGACCAAATTGCTTATAATAGCAGGATCGGTTCCCGCCATCCTACTATCACGTCGGTCTACTTCGTCGGGGTGGCACACACCGAGTTGACCTTCAAAAAGTTCTCCTATCCAGTATGAGGATACGTCGGGAAGTCAAACAGTTGGTTCTTATAATGCAATCACTCCAACTCCCAGTTCGCTGTCGTAAATCATTTCTGGAATTCGCAATATGTCACCTAGCAGATTTGTCCGAATTGCTCGTCACTTGGAAACACGGGATACTAGTAAGTCGATCCTTGGCTCGGGCCATAAGAAAATATGGGCCTGCACCACTCACTCCCACATCTTTGTCATGTGGTAGTCGTATGCCGCAATTTCAGACGTCGACGGGGCAAATGTAGAGTGCTGACTAATCGCTAAGCCGCAACTTTAAAGAGGGCCTAGGACGAGCAGGTCTGTTGCACTTAACAGGGCAATATAATAAACCTGGCCACAAGCAGCGATCCAGGCTCTTTGGCGACCACCCTCGCCAGTCTGTCTATATCGGATAGAACACTACCCCGGGGCGCCGGGCGCAGTATGTTTTAGATACACCGACGGGAGGCATACCGTATAGCGTACAAACTCTTGCTGCGCGTGTTATCCCCGCCGCCCGATCATAAAAATTCTTGCCAGCCGAGTAACACTCGCTCCCTAAGGAATCTAAACCATGTCTTGTCGACTTGCCTAAGTTCCCACCATCACAGGGGTCGATGCAGCGGCAGCAGTTACTATTGTGCTCTATGCACTAGTCGCGACGACATTACTTCCGCGCTTACCAAAGAGCCTGCAAAACGCGGTTGTGAAAAGGTAATAAGCATTAGCACAGCCAATAATCCCCCGTTTTGGCCCTCGACCCTCGAGCTAATAATATGTTAATTCGTAGGACCGTTGCTGTCATGCAGGTTTTACGAAGAAAAATTCACATAAACCCAACTCGTCAGGAACTAGCAGTTATAACCCGGATACACTCCCGGAGTAGTACGAATCGACCTGGCGTTAACGTACCACCCACTCACATTGAAACTGCGTAACCGCAAGCGTGGTGATGTCTGGCGAATAACCTAAGGCCATCTATCCGAGTCTCACTTGTTGGCACAGCTGTAACAGGGAAGTGAGTCGATTGAATCGCTCGAAGATATATGGTAATACTGTGCACTCAGTAAAAGCAGATACTTCTGGCTTGATCGGCAGTGCGACGGAGGATCGAACCTTTCGTAACGGAAAATAGAATACCATTTCTAAACCGAGAGAGAACGCGAATATCGGAAGTACACCTTTAAGAGTCTTTTGTTTAAAGATACCAGCAACTCACCTACGCGTAACGTTGAAAGTTGCGCGGGTCAGCGGAGGACCCATCGGTTCGCGGAATGATTTTCTCGACGCTAGGTGTGGAGCGTTTGTTCTAAACTGTCAAGATCCCACCTAGAATCTACTCTACCATTCGGGTTGGACAGACCTGATACGACATTCAGTGCATCGTCGTTATGGCCTACGCGAAGTTCCGCATCAAGCAACGGTCACTAACGCACAAGATGCCGTTCTGTCTCTCTTCGCAGAGTGACTTAGCAAGGAAACGCTCTGTGAGTGCATATTTCGGGAGCCCTACTCAGACTGCCAATCCGCACCACTGGAATATATAACTCGGGTTCCCTTCATTCCATGAGTGAGATGAGTAAGAGCCTTTAGGGTTCTGAAATCAGCTTATCCGTTGGGTCAAAAAAGGGGATCAGTGCGCAAGAATACCTAAAACCAAGTTTCTCTGGGATCTAATGACCGTTCAGCGCTTATGTGCAAGTCCTCTAGCTTTGTGGCGCTGCGCTCGTCCATGGCCTAACGCGATAACGCCCCGTTCGCTGCCGGCTCAGAAGAAGTATTGGCTATACCCTCAGATATGCAACTAGACCCGGTCGCTAAGCCAACATCGAGAAGTTGCAAAGAGGAACCCGCCCCTAATGCCGCCTCCTTCTTGGAAACGAATTAGTGGCCTGCCGTCCTCACAAATGCGCAAGCCGCCTGGAAGGCATTCTAACCTCCGAGTACTTTTAGACTAAGGTAAAGATGACTACCCCATACTCGGTGTGTCACTCCTGTGCGGCCCTGACCCGCGGCCTGCACCAAGCCGGCGATCCTCCGTCACTAAGGAGGATACAGGACGGAAGGCAGGTGAACGGGGGATGTCTTCTCCTCTTTGCCGAGGGGCTCGGGGCATAGGTAGTTAAAGTTAATACTTAATTCACTACTGCACGCGGAGAGTTATTTGCCAGGTCGGCCGTGAGCGGTGTAAAGAAAAATACTTCGCAGGGGGGGTAAGAATGGGACGAAGCGACGGTCTCAGGCTGTGCATGGACCCGGTATTTAGGATGTGCCGTTCCTCTGTGTCCTACAATCTATGTCCCTACGAGGGCACCCCAGTGCAGGCCGCCGTCACAACTCTGCACGAGTGGTACAACATTGGCTTCTTAAGCCTAAATTGACTTTCATTCGCAGTCGTGATACTTCACGCTCTATCGTGCGAGCCGTGTCCATCGGAATTGGTTTATGCACCTATTCATCCGGCACAGCGGTATTGGGAGCTCTCACTGCTATCCAGACTTGTTCGCCAGGAGCCTCAGCAACCCCTCTAGCTAGTCGGGCAATGAACGCGCACTTTCGTGCATACTGCTCTATGTTAGTTGTGCCGCCGAGATCCCATTATTTCTTAAGGTTGACCCTACACATCAGATTCTAAACCGCATCTCTCCGGTGTGGCATAGCCATATCCAGCCCGCCTTGCGCACACGCTGGAAAATTACACCAGTTGGGCAGGAGCCGCACCGACTTCTGGGCGGGGACTAACGCCATCACGCGATTATGATGTGACTGCTTGCACCTCGCACGATCCCACGGTTGGGCGATTTCAGTTGGTCGGCCAAGTAAGACCCATCGAACTTTAACACGGGCGGCTAAATTATTCAGTCACGGTCAACCAAGTTGCAAAATACCAAATTCCGCTACTTTATGGTATTTAATCTTAACGAGGAAACGTAGCTGCACACGGCACACAGGACATGCTGACGTAGACGAAGTTCAGCACGTCCAGCATCTCCAATTGAGCCGCGTGTTATTGAGCATGCATATTTCGGAACACCGCTGATCACCACGTGATCGATGTCGGGGCTCGAATGGGTCCTGCGTTATATTGTTTGACAGCCTGCTAGTTAACCCCGGGGTACTACACTCTACGCCGTAGCGCATTGCCAGGTTCCGGTGCTACGTGCGTTTTCACTCTAACCCCGACTGTGCCGACTTGTATATCGACCGCGAACACTGTGAAAATATAATTATTAGTTTTCCTAAGCGAATACCCAGGCGATAAGACTAAAGAGAAGAAAACCATTATCAATCGCAGTTTCCTTCGTACCGGTGACTGATAAGCCATGCGCGATGGTGGGAACGCGTATGATCGACGGTACAACACCACGTGGTGGTGCATGTGGACTCACACCGAAGATCCTATTTGGAGCTTGACCTAATTAGCTCTATTGTGTATTTGGAGGCTGTTCTGTTTCTGGCAGGTGCAA\"\n",
    "k = 100\n",
    "kmers = open(\"kmers.txt\", \"w\")\n",
    "kmers.write(' '.join(kmer_comp(Text, k)))\n",
    "kmers.close()"
   ]
  },
  {
   "cell_type": "markdown",
   "id": "c3cd1dcf",
   "metadata": {},
   "source": [
    "**String Spelled by a Genome Path Problem. Reconstruct a string from its genome path.**"
   ]
  },
  {
   "cell_type": "code",
   "execution_count": 5,
   "id": "10eb5236",
   "metadata": {},
   "outputs": [],
   "source": [
    "def PathtoGenome(path):\n",
    "    kmers = path.split()\n",
    "    genome = kmers[0]\n",
    "    for i in kmers:\n",
    "        for j in kmers:\n",
    "            if i != j:\n",
    "                if i[1:] == j[0:len(i) - 1]:\n",
    "                    genome += j[-1]\n",
    "\n",
    "    return genome"
   ]
  },
  {
   "cell_type": "markdown",
   "id": "d5eafd26",
   "metadata": {},
   "source": [
    "**or simply as the path is given:**"
   ]
  },
  {
   "cell_type": "code",
   "execution_count": 3,
   "id": "300500d9",
   "metadata": {},
   "outputs": [],
   "source": [
    "def PathtoGenome(path):\n",
    "    kmers = path.split()\n",
    "    genome = kmers[0]\n",
    "    for i in range(len(kmers) - 1):\n",
    "        genome += kmers[i+1][-1]\n",
    "\n",
    "    return genome"
   ]
  },
  {
   "cell_type": "code",
   "execution_count": 7,
   "id": "33c05648",
   "metadata": {},
   "outputs": [],
   "source": [
    "path = open(\"path.txt\").read()\n",
    "genomefrompath = open(\"genome.txt\", \"w\")\n",
    "genomefrompath.write(PathtoGenome(path))\n",
    "genomefrompath.close()"
   ]
  },
  {
   "cell_type": "markdown",
   "id": "db0b45d8",
   "metadata": {},
   "source": [
    "**Overlap Graph Problem**"
   ]
  },
  {
   "cell_type": "code",
   "execution_count": 57,
   "id": "056ccad1",
   "metadata": {},
   "outputs": [],
   "source": [
    "def OverlapGraph(nodes):\n",
    "    kmers = nodes.split()\n",
    "    directed_graph = {}\n",
    "    \n",
    "    for i in kmers:\n",
    "        suffix = []\n",
    "        for j in kmers:\n",
    "            if i != j:\n",
    "                if i[1:] == j[0:len(i) - 1]:\n",
    "                    suffix.append(j)\n",
    "                    directed_graph[i] = suffix\n",
    "\n",
    "    return directed_graph"
   ]
  },
  {
   "cell_type": "code",
   "execution_count": 62,
   "id": "cae70c84",
   "metadata": {},
   "outputs": [],
   "source": [
    "nodes = open(\"kmers_overlap_graph.txt\", \"r\").read()\n",
    "with open(\"overlap_graph.txt\", 'w') as file:\n",
    "    result_dict = OverlapGraph(nodes)\n",
    "    for key, value in result_dict.items():\n",
    "        formatted_value = ' '.join(value)\n",
    "        file.write(f\"{key}: {formatted_value}\\n\")"
   ]
  },
  {
   "cell_type": "markdown",
   "id": "e0170d27",
   "metadata": {},
   "source": [
    "**De Bruijn Graph from a String Problem:**"
   ]
  },
  {
   "cell_type": "code",
   "execution_count": 35,
   "id": "aed06f58",
   "metadata": {},
   "outputs": [],
   "source": [
    "from collections import defaultdict, OrderedDict\n",
    "\n",
    "def DeBruijnGraph(Text, k):\n",
    "  de_bruijn_graph = defaultdict(list)\n",
    "  for i in range(len(Text) - k + 1):\n",
    "    kmer = Text[i:i+k]\n",
    "    prefix = kmer[:k-1]\n",
    "    suffix = kmer[1:]\n",
    "    de_bruijn_graph[prefix].append(suffix)\n",
    "    \n",
    "  return OrderedDict(sorted(de_bruijn_graph.items()))"
   ]
  },
  {
   "cell_type": "code",
   "execution_count": 37,
   "id": "816d243f",
   "metadata": {},
   "outputs": [],
   "source": [
    "k = int(open(\"string.txt\", \"r\").readlines()[0])\n",
    "Text = open(\"string.txt\", \"r\").readlines()[1].strip()\n",
    "with open(\"de_bruijn_graph.txt\", 'w') as file:\n",
    "    result_dict = DeBruijnGraph(Text, k)\n",
    "    for key, value in result_dict.items():\n",
    "        formatted_value = ' '.join(value)\n",
    "        file.write(f\"{key}: {formatted_value}\\n\")\n",
    "\n",
    "file.close()"
   ]
  },
  {
   "cell_type": "markdown",
   "id": "40ce7d38",
   "metadata": {},
   "source": [
    "**DeBruijn Graph from k-mers Problem: Construct the de Bruijn graph from a set of k-mers.**"
   ]
  },
  {
   "cell_type": "code",
   "execution_count": 5,
   "id": "66127ca6",
   "metadata": {},
   "outputs": [],
   "source": [
    "from collections import defaultdict, OrderedDict\n",
    "\n",
    "def DeBruijnGraph_from_kmers(kmers):\n",
    "  de_bruijn_graph = defaultdict(list)\n",
    "  for i in kmers.split():\n",
    "    prefix = i[:len(i)-1]\n",
    "    suffix = i[1:]\n",
    "    de_bruijn_graph[prefix].append(suffix)\n",
    "    \n",
    "  return OrderedDict(sorted(de_bruijn_graph.items()))"
   ]
  },
  {
   "cell_type": "code",
   "execution_count": 6,
   "id": "4156d0f6",
   "metadata": {},
   "outputs": [],
   "source": [
    "kmers = open(\"kmers_unordered.txt\", \"r\").read().strip()\n",
    "with open(\"de_bruijn_graph_from_kmers.txt\", 'w') as file:\n",
    "    result_dict = DeBruijnGraph_from_kmers(kmers)\n",
    "    for key, value in result_dict.items():\n",
    "        formatted_value = ' '.join(value)\n",
    "        file.write(f\"{key}: {formatted_value}\\n\")\n",
    "\n",
    "file.close()"
   ]
  },
  {
   "cell_type": "markdown",
   "id": "14e62eb2",
   "metadata": {},
   "source": [
    "**Eulerian Cycle Problem:**"
   ]
  },
  {
   "cell_type": "code",
   "execution_count": 1,
   "id": "23770840",
   "metadata": {},
   "outputs": [],
   "source": [
    "def read_adjacency_list(filename):\n",
    "    graph = {}\n",
    "    with open(filename, 'r') as file:\n",
    "        for line in file:\n",
    "            parts = line.strip().split(':')\n",
    "            node = int(parts[0])\n",
    "            neighbors = list(map(int, parts[1].split()))\n",
    "            graph[node] = neighbors\n",
    "    return graph\n",
    "\n",
    "filename = \"adjacency_list_euler.txt\"\n",
    "graph = read_adjacency_list(filename)"
   ]
  },
  {
   "cell_type": "code",
   "execution_count": 2,
   "id": "c74b2780",
   "metadata": {},
   "outputs": [],
   "source": [
    "import random\n",
    "\n",
    "def eulerian_cycle(graph):\n",
    "    if not graph:\n",
    "        raise ValueError(\"The graph is empty.\")\n",
    "\n",
    "    current_node = random.choice(list(graph.keys()))\n",
    "    path = [current_node]\n",
    "    \n",
    "    while True:\n",
    "        if current_node not in graph or not graph[current_node]:\n",
    "            break\n",
    "        next_node = graph[current_node][0]\n",
    "        path.append(next_node)\n",
    "        \n",
    "        if len(graph[current_node]) == 1:\n",
    "            del graph[current_node]\n",
    "        else:\n",
    "            graph[current_node] = graph[current_node][1:]\n",
    "        \n",
    "        current_node = next_node\n",
    "\n",
    "    while len(graph) > 0:\n",
    "        for i in range(len(path)):\n",
    "            if path[i] in graph:\n",
    "                current_node = path[i]\n",
    "                cycle = [current_node]\n",
    "                while True:\n",
    "                    if current_node not in graph or not graph[current_node]:\n",
    "                        break\n",
    "                    next_node = graph[current_node][0]\n",
    "                    cycle.append(next_node)\n",
    "\n",
    "                    if len(graph[current_node]) == 1:\n",
    "                        del graph[current_node]\n",
    "                    else:\n",
    "                        graph[current_node] = graph[current_node][1:]\n",
    "                    \n",
    "                    current_node = next_node\n",
    "\n",
    "                path = path[:i] + cycle + path[i+1:]\n",
    "                break\n",
    "\n",
    "    return path\n",
    "\n",
    "try:\n",
    "    eulerian_cycle_result = eulerian_cycle(graph)\n",
    "except ValueError as e:\n",
    "    print(e)"
   ]
  },
  {
   "cell_type": "code",
   "execution_count": 3,
   "id": "2ff8e7b7",
   "metadata": {},
   "outputs": [],
   "source": [
    "if 'eulerian_cycle_result' in locals():\n",
    "    with open('eulerian_cycle.txt', 'w') as output_data:\n",
    "        output_data.write(' '.join(map(str, eulerian_cycle_result)))"
   ]
  },
  {
   "cell_type": "code",
   "execution_count": null,
   "id": "411cb1e2",
   "metadata": {},
   "outputs": [],
   "source": []
  }
 ],
 "metadata": {
  "kernelspec": {
   "display_name": "Python 3 (ipykernel)",
   "language": "python",
   "name": "python3"
  },
  "language_info": {
   "codemirror_mode": {
    "name": "ipython",
    "version": 3
   },
   "file_extension": ".py",
   "mimetype": "text/x-python",
   "name": "python",
   "nbconvert_exporter": "python",
   "pygments_lexer": "ipython3",
   "version": "3.11.4"
  }
 },
 "nbformat": 4,
 "nbformat_minor": 5
}
