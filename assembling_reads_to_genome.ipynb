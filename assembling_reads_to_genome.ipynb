{
 "cells": [
  {
   "cell_type": "markdown",
   "id": "64345da8",
   "metadata": {},
   "source": [
    "**String Composition Problem: Generate the k-mer composition of a string.**"
   ]
  },
  {
   "cell_type": "code",
   "execution_count": 3,
   "id": "e26d4e82",
   "metadata": {},
   "outputs": [],
   "source": [
    "def kmer_comp(Text, k):\n",
    "    kmers = []\n",
    "    for i in range(len(Text) - k + 1):\n",
    "        kmers.append(Text[i:i+k])\n",
    "        \n",
    "    return kmers # lexicographical order - sorted(kmers)"
   ]
  },
  {
   "cell_type": "code",
   "execution_count": 4,
   "id": "969ab89e",
   "metadata": {},
   "outputs": [],
   "source": [
    "Text = \"GTGGTTGGCAATCCAAACAAAGGCAGCGGTTTCTTCTCGGGGGCTAAGACAGTACTAGCAAATCAAGAATTCCACTGTACCCCCTGGCTATTGTCAGGAGTGCCGGGGGTATTAGTGGACTATATAGGTGTCTGATAAGTGAGCTAAACGAGGTATAAATATGAAGACGTGCAATTGTCCAACATCCCCGTGCCCTCACTGGCAACGTTCACCCCCGTGTGAGAAAATCCAGAACGTGTTGCGCTGCGGCTTCGATATCAGGTTAAAAGGCTGAAGACTACTAAACTCGCAGAATGGCTGCTATGGTCCCAGCAAAGGAAATAAATAGGGTCCAAACGCAGCAGACTTTCCCGTGAAGGCTAATACAGATAACAATATCTCTAACATAAGGCATTGAAGCACGGCGCTGCAAGTCTGCTGCCACCTATACTGCAGTATTGGTCAGTAGATGTTCATGGAGGCAAGTAACGAGCCCATATAGGATATCCTTCACGCCGTGCCGAGGACTAGGCGGCTCCCGCGGATACACACCCAAGGAATCGCTCTCCCCATGTTTATCACCCGCGCAGGGACAAGCGCGGAGTCCGCATGTGTGCTCGTTCCCTATTCGAAGATGGTACGCATCGCCCGCTCAAACGTACACCTACCCCCGTTCAAACACTACCTCGTTTTGTGTCTCTGGCTCCGCAAGTCGTGCATATTGGCTCCCGTCGTAAGGTGACAAACACACGGCGTGCGGGGCAACTTGGCCATGTAAGATCGTGGTGGCTCCCCGCCCACTAAGCGCGAGGGTTCGACAGCCCTCCCAGGCACTGAAAACGTAACCGCGTCGTCTGTGCACTCTACTAAACTCTCAACGCGGTCGGTTGTGCAATAAACAGGTTACAAAACGCACGGGCAACTCTTGCCAGTTGTCTTTCTAGAAGCTACCCCAGTAAGCAGTGTGGAGTTACCTTGCGACGGGGTCTTAGAGCAGTAACATTGGATTCGCTGTCGGAGTAGTGACGCGGGGCGACAGTTAGCTATTGGGGTCCACTCCGTTTGCTCCTCGGTTATTAGTGCGCGGCAATTCGCCACCTCCAAGGGCCACCCTGCTGGGGATACCCTTGGAAACTTAGGTTTACCCCCCGGCACATTTTACTAGCACTCACATTGAGGGGGTCGATCAATAGTCGGTATTGAGGCAATCTCATGCACCAACGGAAATTAGAGGGTTCCATCGACAATCTGGATAATCTACGTTGGATCGAGCTGAGTGCTACGTTGCTGTAGGGAATGTTGGCCGTACGAAGTTGTAAAGACCACTCTGGAGGTATCTTAACTCGCCGGCCCTCACGCTGCAGAACTATAAGTTCCCACGCAGGCCCGTCTCGAGACTACTATAGATCTGATCAGCCGCGGAGTTAATCCGCAGCTCAGGACCAAATTGCTTATAATAGCAGGATCGGTTCCCGCCATCCTACTATCACGTCGGTCTACTTCGTCGGGGTGGCACACACCGAGTTGACCTTCAAAAAGTTCTCCTATCCAGTATGAGGATACGTCGGGAAGTCAAACAGTTGGTTCTTATAATGCAATCACTCCAACTCCCAGTTCGCTGTCGTAAATCATTTCTGGAATTCGCAATATGTCACCTAGCAGATTTGTCCGAATTGCTCGTCACTTGGAAACACGGGATACTAGTAAGTCGATCCTTGGCTCGGGCCATAAGAAAATATGGGCCTGCACCACTCACTCCCACATCTTTGTCATGTGGTAGTCGTATGCCGCAATTTCAGACGTCGACGGGGCAAATGTAGAGTGCTGACTAATCGCTAAGCCGCAACTTTAAAGAGGGCCTAGGACGAGCAGGTCTGTTGCACTTAACAGGGCAATATAATAAACCTGGCCACAAGCAGCGATCCAGGCTCTTTGGCGACCACCCTCGCCAGTCTGTCTATATCGGATAGAACACTACCCCGGGGCGCCGGGCGCAGTATGTTTTAGATACACCGACGGGAGGCATACCGTATAGCGTACAAACTCTTGCTGCGCGTGTTATCCCCGCCGCCCGATCATAAAAATTCTTGCCAGCCGAGTAACACTCGCTCCCTAAGGAATCTAAACCATGTCTTGTCGACTTGCCTAAGTTCCCACCATCACAGGGGTCGATGCAGCGGCAGCAGTTACTATTGTGCTCTATGCACTAGTCGCGACGACATTACTTCCGCGCTTACCAAAGAGCCTGCAAAACGCGGTTGTGAAAAGGTAATAAGCATTAGCACAGCCAATAATCCCCCGTTTTGGCCCTCGACCCTCGAGCTAATAATATGTTAATTCGTAGGACCGTTGCTGTCATGCAGGTTTTACGAAGAAAAATTCACATAAACCCAACTCGTCAGGAACTAGCAGTTATAACCCGGATACACTCCCGGAGTAGTACGAATCGACCTGGCGTTAACGTACCACCCACTCACATTGAAACTGCGTAACCGCAAGCGTGGTGATGTCTGGCGAATAACCTAAGGCCATCTATCCGAGTCTCACTTGTTGGCACAGCTGTAACAGGGAAGTGAGTCGATTGAATCGCTCGAAGATATATGGTAATACTGTGCACTCAGTAAAAGCAGATACTTCTGGCTTGATCGGCAGTGCGACGGAGGATCGAACCTTTCGTAACGGAAAATAGAATACCATTTCTAAACCGAGAGAGAACGCGAATATCGGAAGTACACCTTTAAGAGTCTTTTGTTTAAAGATACCAGCAACTCACCTACGCGTAACGTTGAAAGTTGCGCGGGTCAGCGGAGGACCCATCGGTTCGCGGAATGATTTTCTCGACGCTAGGTGTGGAGCGTTTGTTCTAAACTGTCAAGATCCCACCTAGAATCTACTCTACCATTCGGGTTGGACAGACCTGATACGACATTCAGTGCATCGTCGTTATGGCCTACGCGAAGTTCCGCATCAAGCAACGGTCACTAACGCACAAGATGCCGTTCTGTCTCTCTTCGCAGAGTGACTTAGCAAGGAAACGCTCTGTGAGTGCATATTTCGGGAGCCCTACTCAGACTGCCAATCCGCACCACTGGAATATATAACTCGGGTTCCCTTCATTCCATGAGTGAGATGAGTAAGAGCCTTTAGGGTTCTGAAATCAGCTTATCCGTTGGGTCAAAAAAGGGGATCAGTGCGCAAGAATACCTAAAACCAAGTTTCTCTGGGATCTAATGACCGTTCAGCGCTTATGTGCAAGTCCTCTAGCTTTGTGGCGCTGCGCTCGTCCATGGCCTAACGCGATAACGCCCCGTTCGCTGCCGGCTCAGAAGAAGTATTGGCTATACCCTCAGATATGCAACTAGACCCGGTCGCTAAGCCAACATCGAGAAGTTGCAAAGAGGAACCCGCCCCTAATGCCGCCTCCTTCTTGGAAACGAATTAGTGGCCTGCCGTCCTCACAAATGCGCAAGCCGCCTGGAAGGCATTCTAACCTCCGAGTACTTTTAGACTAAGGTAAAGATGACTACCCCATACTCGGTGTGTCACTCCTGTGCGGCCCTGACCCGCGGCCTGCACCAAGCCGGCGATCCTCCGTCACTAAGGAGGATACAGGACGGAAGGCAGGTGAACGGGGGATGTCTTCTCCTCTTTGCCGAGGGGCTCGGGGCATAGGTAGTTAAAGTTAATACTTAATTCACTACTGCACGCGGAGAGTTATTTGCCAGGTCGGCCGTGAGCGGTGTAAAGAAAAATACTTCGCAGGGGGGGTAAGAATGGGACGAAGCGACGGTCTCAGGCTGTGCATGGACCCGGTATTTAGGATGTGCCGTTCCTCTGTGTCCTACAATCTATGTCCCTACGAGGGCACCCCAGTGCAGGCCGCCGTCACAACTCTGCACGAGTGGTACAACATTGGCTTCTTAAGCCTAAATTGACTTTCATTCGCAGTCGTGATACTTCACGCTCTATCGTGCGAGCCGTGTCCATCGGAATTGGTTTATGCACCTATTCATCCGGCACAGCGGTATTGGGAGCTCTCACTGCTATCCAGACTTGTTCGCCAGGAGCCTCAGCAACCCCTCTAGCTAGTCGGGCAATGAACGCGCACTTTCGTGCATACTGCTCTATGTTAGTTGTGCCGCCGAGATCCCATTATTTCTTAAGGTTGACCCTACACATCAGATTCTAAACCGCATCTCTCCGGTGTGGCATAGCCATATCCAGCCCGCCTTGCGCACACGCTGGAAAATTACACCAGTTGGGCAGGAGCCGCACCGACTTCTGGGCGGGGACTAACGCCATCACGCGATTATGATGTGACTGCTTGCACCTCGCACGATCCCACGGTTGGGCGATTTCAGTTGGTCGGCCAAGTAAGACCCATCGAACTTTAACACGGGCGGCTAAATTATTCAGTCACGGTCAACCAAGTTGCAAAATACCAAATTCCGCTACTTTATGGTATTTAATCTTAACGAGGAAACGTAGCTGCACACGGCACACAGGACATGCTGACGTAGACGAAGTTCAGCACGTCCAGCATCTCCAATTGAGCCGCGTGTTATTGAGCATGCATATTTCGGAACACCGCTGATCACCACGTGATCGATGTCGGGGCTCGAATGGGTCCTGCGTTATATTGTTTGACAGCCTGCTAGTTAACCCCGGGGTACTACACTCTACGCCGTAGCGCATTGCCAGGTTCCGGTGCTACGTGCGTTTTCACTCTAACCCCGACTGTGCCGACTTGTATATCGACCGCGAACACTGTGAAAATATAATTATTAGTTTTCCTAAGCGAATACCCAGGCGATAAGACTAAAGAGAAGAAAACCATTATCAATCGCAGTTTCCTTCGTACCGGTGACTGATAAGCCATGCGCGATGGTGGGAACGCGTATGATCGACGGTACAACACCACGTGGTGGTGCATGTGGACTCACACCGAAGATCCTATTTGGAGCTTGACCTAATTAGCTCTATTGTGTATTTGGAGGCTGTTCTGTTTCTGGCAGGTGCAA\"\n",
    "k = 100\n",
    "kmers = open(\"kmers.txt\", \"w\")\n",
    "kmers.write(' '.join(kmer_comp(Text, k)))\n",
    "kmers.close()"
   ]
  },
  {
   "cell_type": "markdown",
   "id": "c3cd1dcf",
   "metadata": {},
   "source": [
    "**String Spelled by a Genome Path Problem. Reconstruct a string from its genome path.**"
   ]
  },
  {
   "cell_type": "code",
   "execution_count": 5,
   "id": "10eb5236",
   "metadata": {},
   "outputs": [],
   "source": [
    "def PathtoGenome(path):\n",
    "    kmers = path.split()\n",
    "    genome = kmers[0]\n",
    "    for i in kmers:\n",
    "        for j in kmers:\n",
    "            if i != j:\n",
    "                if i[1:] == j[0:len(i) - 1]:\n",
    "                    genome += j[-1]\n",
    "\n",
    "    return genome"
   ]
  },
  {
   "cell_type": "markdown",
   "id": "d5eafd26",
   "metadata": {},
   "source": [
    "**or simply as the path is given:**"
   ]
  },
  {
   "cell_type": "code",
   "execution_count": 3,
   "id": "300500d9",
   "metadata": {},
   "outputs": [],
   "source": [
    "def PathtoGenome(path):\n",
    "    kmers = path.split()\n",
    "    genome = kmers[0]\n",
    "    for i in range(len(kmers) - 1):\n",
    "        genome += kmers[i+1][-1]\n",
    "\n",
    "    return genome"
   ]
  },
  {
   "cell_type": "code",
   "execution_count": 7,
   "id": "33c05648",
   "metadata": {},
   "outputs": [],
   "source": [
    "path = open(\"path.txt\").read()\n",
    "genomefrompath = open(\"genome.txt\", \"w\")\n",
    "genomefrompath.write(PathtoGenome(path))\n",
    "genomefrompath.close()"
   ]
  },
  {
   "cell_type": "markdown",
   "id": "db0b45d8",
   "metadata": {},
   "source": [
    "**Overlap Graph Problem**"
   ]
  },
  {
   "cell_type": "code",
   "execution_count": 57,
   "id": "056ccad1",
   "metadata": {},
   "outputs": [],
   "source": [
    "def OverlapGraph(nodes):\n",
    "    kmers = nodes.split()\n",
    "    directed_graph = {}\n",
    "    \n",
    "    for i in kmers:\n",
    "        suffix = []\n",
    "        for j in kmers:\n",
    "            if i != j:\n",
    "                if i[1:] == j[0:len(i) - 1]:\n",
    "                    suffix.append(j)\n",
    "                    directed_graph[i] = suffix\n",
    "\n",
    "    return directed_graph"
   ]
  },
  {
   "cell_type": "code",
   "execution_count": 62,
   "id": "cae70c84",
   "metadata": {},
   "outputs": [],
   "source": [
    "nodes = open(\"kmers_overlap_graph.txt\", \"r\").read()\n",
    "with open(\"overlap_graph.txt\", 'w') as file:\n",
    "    result_dict = OverlapGraph(nodes)\n",
    "    for key, value in result_dict.items():\n",
    "        formatted_value = ' '.join(value)\n",
    "        file.write(f\"{key}: {formatted_value}\\n\")"
   ]
  },
  {
   "cell_type": "markdown",
   "id": "e0170d27",
   "metadata": {},
   "source": [
    "**De Bruijn Graph from a String Problem:**"
   ]
  },
  {
   "cell_type": "code",
   "execution_count": 35,
   "id": "aed06f58",
   "metadata": {},
   "outputs": [],
   "source": [
    "from collections import defaultdict, OrderedDict\n",
    "\n",
    "def DeBruijnGraph(Text, k):\n",
    "  de_bruijn_graph = defaultdict(list)\n",
    "  for i in range(len(Text) - k + 1):\n",
    "    kmer = Text[i:i+k]\n",
    "    prefix = kmer[:k-1]\n",
    "    suffix = kmer[1:]\n",
    "    de_bruijn_graph[prefix].append(suffix)\n",
    "    \n",
    "  return OrderedDict(sorted(de_bruijn_graph.items()))"
   ]
  },
  {
   "cell_type": "code",
   "execution_count": 37,
   "id": "816d243f",
   "metadata": {},
   "outputs": [],
   "source": [
    "k = int(open(\"string.txt\", \"r\").readlines()[0])\n",
    "Text = open(\"string.txt\", \"r\").readlines()[1].strip()\n",
    "with open(\"de_bruijn_graph.txt\", 'w') as file:\n",
    "    result_dict = DeBruijnGraph(Text, k)\n",
    "    for key, value in result_dict.items():\n",
    "        formatted_value = ' '.join(value)\n",
    "        file.write(f\"{key}: {formatted_value}\\n\")\n",
    "\n",
    "file.close()"
   ]
  },
  {
   "cell_type": "markdown",
   "id": "40ce7d38",
   "metadata": {},
   "source": [
    "**DeBruijn Graph from k-mers Problem: Construct the de Bruijn graph from a set of k-mers.**"
   ]
  },
  {
   "cell_type": "code",
   "execution_count": 5,
   "id": "66127ca6",
   "metadata": {},
   "outputs": [],
   "source": [
    "from collections import defaultdict, OrderedDict\n",
    "\n",
    "def DeBruijnGraph_from_kmers(kmers):\n",
    "  de_bruijn_graph = defaultdict(list)\n",
    "  for i in kmers.split():\n",
    "    prefix = i[:len(i)-1]\n",
    "    suffix = i[1:]\n",
    "    de_bruijn_graph[prefix].append(suffix)\n",
    "    \n",
    "  return OrderedDict(sorted(de_bruijn_graph.items()))"
   ]
  },
  {
   "cell_type": "code",
   "execution_count": 6,
   "id": "4156d0f6",
   "metadata": {},
   "outputs": [],
   "source": [
    "kmers = open(\"kmers_unordered.txt\", \"r\").read().strip()\n",
    "with open(\"de_bruijn_graph_from_kmers.txt\", 'w') as file:\n",
    "    result_dict = DeBruijnGraph_from_kmers(kmers)\n",
    "    for key, value in result_dict.items():\n",
    "        formatted_value = ' '.join(value)\n",
    "        file.write(f\"{key}: {formatted_value}\\n\")\n",
    "\n",
    "file.close()"
   ]
  },
  {
   "cell_type": "markdown",
   "id": "14e62eb2",
   "metadata": {},
   "source": [
    "**Eulerian Cycle Problem:**"
   ]
  },
  {
   "cell_type": "code",
   "execution_count": 32,
   "id": "23770840",
   "metadata": {},
   "outputs": [
    {
     "name": "stdout",
     "output_type": "stream",
     "text": [
      "Graph: {0: [2, 462, 6, 60, 89], 1: [0], 10: [16, 328, 33, 374, 5, 63, 842], 100: [101, 817], 101: [102], 102: [14, 630], 103: [104, 384], 104: [46, 833], 105: [103, 216], 106: [108], 107: [60, 708, 717], 108: [107], 109: [110], 11: [12, 138, 44, 50], 110: [67], 111: [109, 194], 112: [114, 152, 734, 946], 113: [30], 114: [113], 115: [116], 116: [117], 117: [72], 118: [120, 265], 119: [55], 12: [10, 83], 120: [119], 121: [122, 611], 122: [23], 123: [121, 148], 124: [126], 125: [44], 126: [125, 128, 182, 404], 127: [129], 128: [127, 233], 129: [126], 13: [14], 130: [131], 131: [23, 431], 132: [130, 169, 323], 133: [44], 134: [133, 501], 135: [134], 136: [137, 592], 137: [11], 138: [136], 139: [141], 14: [100, 305, 342, 4, 64, 878], 140: [293, 721, 9], 141: [140], 142: [144], 143: [142, 600], 144: [59], 145: [178, 36], 146: [147], 147: [145, 465, 869], 148: [150], 149: [123], 15: [13, 26], 150: [149], 151: [112, 537], 152: [153, 556], 153: [151, 187], 154: [156], 155: [34], 156: [155], 157: [159], 158: [568, 97], 159: [158], 16: [17, 37, 48, 56, 659], 160: [657, 66], 161: [160, 256], 162: [161, 298], 163: [164], 164: [47], 165: [163], 166: [168], 167: [91], 168: [167], 169: [171, 209], 17: [18, 241, 426], 170: [132, 229], 171: [170, 528, 529], 172: [174, 251], 173: [172], 174: [204, 81], 175: [93], 176: [175, 515, 720], 177: [176], 178: [180], 179: [145], 18: [10], 180: [179, 637], 181: [126], 182: [183, 337, 647], 183: [181], 184: [91], 185: [184], 186: [185, 198], 187: [188, 270, 693], 188: [189], 189: [153, 412], 19: [20, 36], 190: [191, 917], 191: [192, 223], 192: [770, 98], 193: [111], 194: [195], 195: [193], 196: [186], 197: [196], 198: [197], 199: [201, 207], 2: [3], 20: [21, 331], 200: [199], 201: [38], 202: [174], 203: [202, 289], 204: [203, 354, 950], 205: [199], 206: [205], 207: [206], 208: [210, 213], 209: [208, 427], 21: [8], 210: [169], 211: [208], 212: [211], 213: [212], 214: [215], 215: [105], 216: [214, 249, 814], 217: [219, 983], 218: [217], 219: [314, 351, 82], 22: [239, 29, 7, 98], 220: [49], 221: [220], 222: [221], 223: [225, 307], 224: [191], 225: [224], 226: [228, 671], 227: [226], 228: [75], 229: [230, 320], 23: [123, 132, 22, 235], 230: [231], 231: [170, 402], 232: [128, 544], 233: [234, 939], 234: [232, 254], 235: [236], 236: [237], 237: [23], 238: [22, 591], 239: [240], 24: [23, 310], 240: [238], 241: [242], 242: [243], 243: [17], 244: [615, 8], 245: [246], 246: [244, 622], 247: [216, 264, 506], 248: [247], 249: [248, 390], 25: [15], 250: [252, 971], 251: [250, 355, 409], 252: [172], 253: [255], 254: [253, 689], 255: [234], 256: [258, 282], 257: [161, 286], 258: [257, 297, 443], 259: [260], 26: [27], 260: [261], 261: [7], 262: [247, 371, 709], 263: [262], 264: [263], 265: [267], 266: [118, 559], 267: [266], 268: [269], 269: [187], 27: [25], 270: [268], 271: [273], 272: [334, 62], 273: [272, 585], 274: [276], 275: [274], 276: [301, 68], 277: [279, 884], 278: [277, 928], 279: [33], 28: [30, 418, 474, 927], 280: [256], 281: [280], 282: [281], 283: [285, 779], 284: [283], 285: [84], 286: [288], 287: [257], 288: [287], 289: [290, 573], 29: [28, 73], 290: [291, 406], 291: [203, 890], 292: [140, 618], 293: [294], 294: [292], 295: [258], 296: [295], 297: [296], 298: [300], 299: [162], 3: [1], 30: [112, 22], 300: [299, 366, 754], 301: [303], 302: [276, 456], 303: [302], 304: [306, 827], 305: [304], 306: [14], 307: [308], 308: [309], 309: [223], 31: [10], 310: [312], 311: [24, 968], 312: [311], 313: [315], 314: [313], 315: [219], 316: [318], 317: [316], 318: [63], 319: [321], 32: [31], 320: [319, 393], 321: [229, 641], 322: [324, 513], 323: [322], 324: [132], 325: [326, 665], 326: [60], 327: [325], 328: [330], 329: [10], 33: [278, 32, 347, 520], 330: [329, 467], 331: [333, 582], 332: [20], 333: [332, 492], 334: [336], 335: [272], 336: [335], 337: [339], 338: [182], 339: [338], 34: [154, 19], 340: [341], 341: [14], 342: [340, 931], 343: [4], 344: [345], 345: [343, 667, 788], 346: [33], 347: [348], 348: [346], 349: [350], 35: [34], 350: [219], 351: [349], 352: [204], 353: [352], 354: [353], 355: [356, 488], 356: [357, 438], 357: [251], 358: [83], 359: [360], 36: [146, 35], 360: [358], 361: [363], 362: [52, 741], 363: [362, 759], 364: [300, 748], 365: [364], 366: [365], 367: [95], 368: [369], 369: [367], 37: [39], 370: [262], 371: [372], 372: [370], 373: [375], 374: [373], 375: [10], 376: [377, 386], 377: [67], 378: [376], 379: [784, 79], 38: [16, 200, 415], 380: [381], 381: [379], 382: [103], 383: [382, 743], 384: [383], 385: [376], 386: [387], 387: [385], 388: [389], 389: [249], 39: [38], 390: [388, 636], 391: [320, 397], 392: [391], 393: [392, 575], 394: [52], 395: [394], 396: [395], 397: [399], 398: [391], 399: [398, 532], 4: [15, 344, 452, 5], 40: [42], 400: [401], 401: [231], 402: [400, 481], 403: [126], 404: [405], 405: [403], 406: [407], 407: [408, 563], 408: [290], 409: [410], 41: [40], 410: [411], 411: [251], 412: [414], 413: [189], 414: [413], 415: [416], 416: [417], 417: [38], 418: [420, 732], 419: [28], 42: [9], 420: [419], 421: [56], 422: [423], 423: [421], 424: [425], 425: [17, 448], 426: [424, 649], 427: [429], 428: [209], 429: [428], 43: [45, 92], 430: [131], 431: [432], 432: [430], 433: [434], 434: [9], 435: [433, 961], 436: [437, 798, 853], 437: [356], 438: [436], 439: [440], 44: [124, 135, 43], 440: [441], 441: [54, 725], 442: [444], 443: [442], 444: [258, 498], 445: [447, 475], 446: [74], 447: [446], 448: [449], 449: [450], 45: [11], 450: [425], 451: [453], 452: [451], 453: [4], 454: [455], 455: [302], 456: [454], 457: [458], 458: [63], 459: [457, 705], 46: [105, 47], 460: [461], 461: [0], 462: [460], 463: [464, 540], 464: [147], 465: [463], 466: [468], 467: [466], 468: [330, 830], 469: [470], 47: [16, 165], 470: [471], 471: [52], 472: [473], 473: [28], 474: [472], 475: [476, 774], 476: [477], 477: [445, 509], 478: [53], 479: [480], 48: [46], 480: [478], 481: [483], 482: [402], 483: [482], 484: [76], 485: [486, 502], 486: [484, 595], 487: [355], 488: [489], 489: [487], 49: [11, 222, 626], 490: [333, 996], 491: [490, 524, 578], 492: [491, 776], 493: [494, 683], 494: [495], 495: [9], 496: [444, 954], 497: [496], 498: [497], 499: [500, 554], 5: [0, 11], 50: [51], 500: [134, 700, 977], 501: [499], 502: [504], 503: [485], 504: [503], 505: [247], 506: [507], 507: [505], 508: [510], 509: [508, 738], 51: [49, 697, 987], 510: [477], 511: [512], 512: [322], 513: [511, 685], 514: [516, 567], 515: [514], 516: [176], 517: [518], 518: [519], 519: [58], 52: [361, 396, 469, 53], 520: [522], 521: [33], 522: [521], 523: [491, 673], 524: [525], 525: [523], 526: [527, 895], 527: [171], 528: [526, 552], 529: [530], 53: [479, 9], 530: [531], 531: [171], 532: [533, 935], 533: [534], 534: [399, 746, 824], 535: [536], 536: [151], 537: [535, 911], 538: [463, 678], 539: [538], 54: [439, 52, 633, 79, 85], 540: [539], 541: [542], 542: [543], 543: [643, 88], 544: [545], 545: [546, 808], 546: [232], 547: [89], 548: [547], 549: [548], 55: [118, 57], 550: [551], 551: [528], 552: [550], 553: [555], 554: [553], 555: [499], 556: [557], 557: [558], 558: [152], 559: [560, 893], 56: [422, 55], 560: [561], 561: [266], 562: [407], 563: [564, 588, 762, 807], 564: [562], 565: [514], 566: [565], 567: [566], 568: [570], 569: [158], 57: [16], 570: [569], 571: [572], 572: [289], 573: [571], 574: [393], 575: [576], 576: [574], 577: [579], 578: [577], 579: [491, 620], 58: [517, 59], 580: [331, 839], 581: [580, 813], 582: [581], 583: [584], 584: [273], 585: [583], 586: [587, 863, 959], 587: [563], 588: [586], 589: [590], 59: [0, 143], 590: [238], 591: [589, 888], 592: [593], 593: [594], 594: [136], 595: [596], 596: [597], 597: [486], 598: [599], 599: [143], 6: [4, 9], 60: [106, 327, 58], 600: [598], 601: [603], 602: [601], 603: [86], 604: [606], 605: [8], 606: [605], 607: [608], 608: [609], 609: [72], 61: [62], 610: [612], 611: [610, 803], 612: [121, 904], 613: [244], 614: [613], 615: [614, 681, 908], 616: [617], 617: [292, 799], 618: [616], 619: [621], 62: [10, 271, 69], 620: [619], 621: [579], 622: [624], 623: [246], 624: [623], 625: [627], 626: [625], 627: [49], 628: [629], 629: [102], 63: [317, 459, 61, 850], 630: [628], 631: [54], 632: [631], 633: [632], 634: [390], 635: [634], 636: [635, 767], 637: [638], 638: [639, 940, 974], 639: [180], 64: [65], 640: [642], 641: [640], 642: [321, 652], 643: [644], 644: [645], 645: [543], 646: [182], 647: [648, 751], 648: [646], 649: [651], 65: [66], 650: [426], 651: [650], 652: [654], 653: [642], 654: [653], 655: [656], 656: [160], 657: [655], 658: [16], 659: [660], 66: [14, 162], 660: [658], 661: [7], 662: [661], 663: [662], 664: [666], 665: [664], 666: [325], 667: [668], 668: [669, 966], 669: [345, 727], 67: [111, 378, 68], 670: [226], 671: [672], 672: [670], 673: [675], 674: [523, 782], 675: [674], 676: [677], 677: [538], 678: [676], 679: [615], 68: [275, 62], 680: [679], 681: [680], 682: [493], 683: [684, 859], 684: [682], 685: [686, 696], 686: [687], 687: [513], 688: [254], 689: [690], 69: [67, 944], 690: [688], 691: [692], 692: [187], 693: [691], 694: [695, 712], 695: [685], 696: [694], 697: [699], 698: [51], 699: [698], 7: [24, 259, 663, 8], 70: [9], 700: [701], 701: [702], 702: [500], 703: [704], 704: [459, 900], 705: [703, 794], 706: [107], 707: [706], 708: [707], 709: [710, 871], 71: [70], 710: [711], 711: [262], 712: [713], 713: [714], 714: [694, 990], 715: [107], 716: [715], 717: [716], 718: [176], 719: [718, 849], 72: [115, 607, 71], 720: [719], 721: [723], 722: [140], 723: [722], 724: [441], 725: [726], 726: [724], 727: [729], 728: [669, 763], 729: [728], 73: [74], 730: [731], 731: [418, 837], 732: [730], 733: [112], 734: [735, 980], 735: [733], 736: [737], 737: [509], 738: [736], 739: [740], 74: [445, 75, 991], 740: [362], 741: [739], 742: [744], 743: [742], 744: [383], 745: [534], 746: [747], 747: [745], 748: [749], 749: [750], 75: [227, 29], 750: [364], 751: [752], 752: [753, 999], 753: [647], 754: [755], 755: [756], 756: [300], 757: [758], 758: [363], 759: [757], 76: [485, 77], 760: [563, 875], 761: [760], 762: [761], 763: [765], 764: [728], 765: [764], 766: [768, 923], 767: [766], 768: [636], 769: [771], 77: [8], 770: [769], 771: [192], 772: [475], 773: [772], 774: [773], 775: [777], 776: [775], 777: [492], 778: [283], 779: [780], 78: [76], 780: [778], 781: [783], 782: [781], 783: [674], 784: [785], 785: [786], 786: [379], 787: [789], 788: [787, 790], 789: [345], 79: [380, 80], 790: [792], 791: [788, 844], 792: [791], 793: [795], 794: [793], 795: [705], 796: [436], 797: [796], 798: [797], 799: [800], 8: [19, 245, 6, 604, 78], 80: [81], 800: [801], 801: [617], 802: [804], 803: [802], 804: [611], 805: [563], 806: [805], 807: [806], 808: [810], 809: [545], 81: [173, 54], 810: [809], 811: [812], 812: [581], 813: [811], 814: [816, 867], 815: [216], 816: [815], 817: [818], 818: [819], 819: [100], 82: [12, 218], 820: [822], 821: [94], 822: [821], 823: [825], 824: [823], 825: [534], 826: [304], 827: [828], 828: [826], 829: [468], 83: [359, 84], 830: [831], 831: [829], 832: [834], 833: [832], 834: [104], 835: [731], 836: [835], 837: [836], 838: [840], 839: [838], 84: [284, 82], 840: [580], 841: [843], 842: [841], 843: [10], 844: [846], 845: [791], 846: [845], 847: [848], 848: [719], 849: [847], 85: [857, 86, 920], 850: [852], 851: [63], 852: [851], 853: [854], 854: [855], 855: [436], 856: [858], 857: [856], 858: [85], 859: [861], 86: [602, 87], 860: [683], 861: [860], 862: [864], 863: [862], 864: [586], 865: [866], 866: [814], 867: [865], 868: [870], 869: [868], 87: [54], 870: [147], 871: [873], 872: [709, 882], 873: [872], 874: [876], 875: [874], 876: [760], 877: [14], 878: [879], 879: [877], 88: [0, 541], 880: [881], 881: [872], 882: [880, 957], 883: [277], 884: [885], 885: [883], 886: [591], 887: [886], 888: [887], 889: [291], 89: [549, 90], 890: [891], 891: [889], 892: [559], 893: [894, 902], 894: [892], 895: [896], 896: [897], 897: [526], 898: [704], 899: [898], 9: [139, 41, 435, 493, 54, 7, 72], 90: [88, 913], 900: [899], 901: [893], 902: [903], 903: [901], 904: [905], 905: [906], 906: [612], 907: [909], 908: [907], 909: [615], 91: [166, 186, 93, 94], 910: [537], 911: [912], 912: [910], 913: [914], 914: [915], 915: [90], 916: [918], 917: [916], 918: [190], 919: [921], 92: [91], 920: [919], 921: [85], 922: [766], 923: [924], 924: [922], 925: [926], 926: [28], 927: [925], 928: [929], 929: [930], 93: [177, 43], 930: [278], 931: [932], 932: [933], 933: [342], 934: [532], 935: [936], 936: [934], 937: [233], 938: [937], 939: [938], 94: [820, 96], 940: [942], 941: [638], 942: [941], 943: [69], 944: [945], 945: [943], 946: [948], 947: [112], 948: [947], 949: [951], 95: [368, 91], 950: [949], 951: [204], 952: [953], 953: [496], 954: [952], 955: [956], 956: [882], 957: [955], 958: [960], 959: [958], 96: [95], 960: [586], 961: [963], 962: [435], 963: [962], 964: [668], 965: [964], 966: [965], 967: [311], 968: [969], 969: [967], 97: [157, 99], 970: [972], 971: [970], 972: [250], 973: [975], 974: [973], 975: [638], 976: [500], 977: [978], 978: [976], 979: [734], 98: [190, 97], 980: [981], 981: [979], 982: [217], 983: [984], 984: [982], 985: [51], 986: [985], 987: [986], 988: [714], 989: [988], 99: [22], 990: [989], 991: [992], 992: [993], 993: [74], 994: [490], 995: [994], 996: [995], 997: [998], 998: [752], 999: [997]}\n"
     ]
    }
   ],
   "source": [
    "def read_adjacency_list(filename):\n",
    "    graph = {}\n",
    "    with open(filename, 'r') as file:\n",
    "        for line in file:\n",
    "            parts = line.strip().split(':')\n",
    "            node = int(parts[0])\n",
    "            neighbors = list(map(int, parts[1].split()))\n",
    "            graph[node] = neighbors\n",
    "    return graph\n",
    "\n",
    "filename = \"adjacency_list_euler.txt\"\n",
    "graph = read_adjacency_list(filename)\n",
    "print(\"Graph:\", graph)"
   ]
  },
  {
   "cell_type": "code",
   "execution_count": 33,
   "id": "c74b2780",
   "metadata": {},
   "outputs": [
    {
     "name": "stdout",
     "output_type": "stream",
     "text": [
      "Eulerian Cycle: 842 841 843 10 16 37 39 38 200 199 207 206 205 199 201 38 415 416 417 38 16 48 46 105 216 249 390 636 767 766 923 924 922 766 768 636 635 634 390 388 389 249 248 247 264 263 262 371 372 370 262 709 871 873 872 882 957 955 956 882 880 881 872 709 710 711 262 247 506 507 505 247 216 814 867 865 866 814 816 815 216 214 215 105 103 384 383 743 742 744 383 382 103 104 833 832 834 104 46 47 165 163 164 47 16 56 422 423 421 56 55 118 265 267 266 559 893 902 903 901 893 894 892 559 560 561 266 118 120 119 55 57 16 659 660 658 16 17 241 242 243 17 426 649 651 650 426 424 425 448 449 450 425 17 18 10 328 330 467 466 468 830 831 829 468 330 329 10 33 347 348 346 33 520 522 521 33 278 928 929 930 278 277 884 885 883 277 279 33 32 31 10 374 373 375 10 5 0 60 106 108 107 708 707 706 107 717 716 715 107 60 327 325 665 664 666 325 326 60 58 517 518 519 58 59 143 600 598 599 143 142 144 59 0 89 549 548 547 89 90 913 914 915 90 88 541 542 543 643 644 645 543 88 0 2 3 1 0 462 460 461 0 6 9 72 115 116 117 72 607 608 609 72 71 70 9 139 141 140 293 294 292 618 616 617 799 800 801 617 292 140 721 723 722 140 9 41 40 42 9 435 961 963 962 435 433 434 9 493 683 859 861 860 683 684 682 493 494 495 9 54 633 632 631 54 79 380 381 379 784 785 786 379 79 80 81 173 172 251 355 488 489 487 355 356 438 436 798 797 796 436 853 854 855 436 437 356 357 251 409 410 411 251 250 971 970 972 250 252 172 174 204 354 353 352 204 950 949 951 204 203 289 573 571 572 289 290 406 407 563 588 586 863 862 864 586 959 958 960 586 587 563 762 761 760 875 874 876 760 563 807 806 805 563 564 562 407 408 290 291 890 891 889 291 203 202 174 81 54 85 920 919 921 85 857 856 858 85 86 602 601 603 86 87 54 439 440 441 725 726 724 441 54 52 361 363 759 757 758 363 362 741 739 740 362 52 396 395 394 52 469 470 471 52 53 479 480 478 53 9 7 24 310 312 311 968 969 967 311 24 23 235 236 237 23 123 148 150 149 123 121 611 803 802 804 611 610 612 904 905 906 612 121 122 23 132 169 209 427 429 428 209 208 213 212 211 208 210 169 171 528 552 550 551 528 526 895 896 897 526 527 171 529 530 531 171 170 229 320 393 575 576 574 393 392 391 397 399 532 935 936 934 532 533 534 746 747 745 534 824 823 825 534 399 398 391 320 319 321 641 640 642 652 654 653 642 321 229 230 231 402 481 483 482 402 400 401 231 170 132 323 322 513 685 696 694 712 713 714 990 989 988 714 694 695 685 686 687 513 511 512 322 324 132 130 131 431 432 430 131 23 22 98 190 917 916 918 190 191 223 307 308 309 223 225 224 191 192 770 769 771 192 98 97 157 159 158 568 570 569 158 97 99 22 239 240 238 591 888 887 886 591 589 590 238 22 29 73 74 991 992 993 74 445 475 774 773 772 475 476 477 509 738 736 737 509 508 510 477 445 447 446 74 75 227 226 671 672 670 226 228 75 29 28 418 732 730 731 837 836 835 731 418 420 419 28 474 472 473 28 927 925 926 28 30 112 152 556 557 558 152 153 187 270 268 269 187 693 691 692 187 188 189 412 414 413 189 153 151 537 911 912 910 537 535 536 151 112 734 980 981 979 734 735 733 112 946 948 947 112 114 113 30 22 7 259 260 261 7 663 662 661 7 8 604 606 605 8 78 76 485 502 504 503 485 486 595 596 597 486 484 76 77 8 19 36 146 147 465 463 540 539 538 678 676 677 538 463 464 147 869 868 870 147 145 178 180 637 638 940 942 941 638 974 973 975 638 639 180 179 145 36 35 34 154 156 155 34 19 20 331 582 581 813 811 812 581 580 839 838 840 580 331 333 492 776 775 777 492 491 524 525 523 673 675 674 782 781 783 674 523 491 578 577 579 620 619 621 579 491 490 996 995 994 490 333 332 20 21 8 245 246 622 624 623 246 244 615 681 680 679 615 908 907 909 615 614 613 244 8 6 4 15 26 27 25 15 13 14 64 65 66 162 298 300 366 365 364 748 749 750 364 300 754 755 756 300 299 162 161 256 282 281 280 256 258 297 296 295 258 443 442 444 498 497 496 954 952 953 496 444 258 257 286 288 287 257 161 160 657 655 656 160 66 14 878 879 877 14 100 817 818 819 100 101 102 630 628 629 102 14 305 304 827 828 826 304 306 14 342 931 932 933 342 340 341 14 4 344 345 667 668 966 965 964 668 669 727 729 728 763 765 764 728 669 345 788 790 792 791 844 846 845 791 788 787 789 345 343 4 452 451 453 4 5 11 138 136 592 593 594 136 137 11 44 124 126 128 233 939 938 937 233 234 254 689 690 688 254 253 255 234 232 544 545 808 810 809 545 546 232 128 127 129 126 182 337 339 338 182 647 751 752 999 997 998 752 753 647 648 646 182 183 181 126 404 405 403 126 125 44 135 134 501 499 554 553 555 499 500 700 701 702 500 977 978 976 500 134 133 44 43 92 91 94 820 822 821 94 96 95 368 369 367 95 91 166 168 167 91 186 198 197 196 186 185 184 91 93 177 176 515 514 567 566 565 514 516 176 720 719 849 847 848 719 718 176 175 93 43 45 11 50 51 697 699 698 51 987 986 985 51 49 222 221 220 49 626 625 627 49 11 12 83 359 360 358 83 84 284 283 779 780 778 283 285 84 82 218 217 983 984 982 217 219 314 313 315 219 351 349 350 219 82 12 10 63 850 852 851 63 317 316 318 63 459 705 794 793 795 705 703 704 900 899 898 704 459 457 458 63 61 62 271 273 585 583 584 273 272 334 336 335 272 62 69 944 945 943 69 67 111 194 195 193 111 109 110 67 378 376 386 387 385 376 377 67 68 275 274 276 301 303 302 456 454 455 302 276 68 62 10 842\n"
     ]
    }
   ],
   "source": [
    "import random\n",
    "\n",
    "def eulerian_cycle(graph):\n",
    "    if not graph:\n",
    "        raise ValueError(\"The graph is empty.\")\n",
    "\n",
    "    current_node = random.choice(list(graph.keys()))\n",
    "    path = [current_node]\n",
    "    \n",
    "    while True:\n",
    "        if current_node not in graph or not graph[current_node]:\n",
    "            break\n",
    "        next_node = graph[current_node][0]\n",
    "        path.append(next_node)\n",
    "        \n",
    "        if len(graph[current_node]) == 1:\n",
    "            del graph[current_node]\n",
    "        else:\n",
    "            graph[current_node] = graph[current_node][1:]\n",
    "        \n",
    "        current_node = next_node\n",
    "\n",
    "    while len(graph) > 0:\n",
    "        for i in range(len(path)):\n",
    "            if path[i] in graph:\n",
    "                current_node = path[i]\n",
    "                cycle = [current_node]\n",
    "                while True:\n",
    "                    if current_node not in graph or not graph[current_node]:\n",
    "                        break\n",
    "                    next_node = graph[current_node][0]\n",
    "                    cycle.append(next_node)\n",
    "\n",
    "                    if len(graph[current_node]) == 1:\n",
    "                        del graph[current_node]\n",
    "                    else:\n",
    "                        graph[current_node] = graph[current_node][1:]\n",
    "                    \n",
    "                    current_node = next_node\n",
    "\n",
    "                path = path[:i] + cycle + path[i+1:]\n",
    "                break\n",
    "\n",
    "    return path\n",
    "\n",
    "try:\n",
    "    eulerian_cycle_result = eulerian_cycle(graph)\n",
    "    print(\"Eulerian Cycle:\", ' '.join(map(str, eulerian_cycle_result)))\n",
    "except ValueError as e:\n",
    "    print(e)"
   ]
  },
  {
   "cell_type": "code",
   "execution_count": 34,
   "id": "2ff8e7b7",
   "metadata": {},
   "outputs": [
    {
     "name": "stdout",
     "output_type": "stream",
     "text": [
      "Eulerian cycle written to eulerian_cycle.txt\n"
     ]
    }
   ],
   "source": [
    "if 'eulerian_cycle_result' in locals():\n",
    "    with open('eulerian_cycle.txt', 'w') as output_data:\n",
    "        output_data.write(' '.join(map(str, eulerian_cycle_result)))\n",
    "    print(\"Eulerian cycle written to eulerian_cycle.txt\")"
   ]
  },
  {
   "cell_type": "markdown",
   "id": "f3a22f40",
   "metadata": {},
   "source": []
  },
  {
   "cell_type": "code",
   "execution_count": null,
   "id": "411cb1e2",
   "metadata": {},
   "outputs": [],
   "source": []
  }
 ],
 "metadata": {
  "kernelspec": {
   "display_name": "Python 3 (ipykernel)",
   "language": "python",
   "name": "python3"
  },
  "language_info": {
   "codemirror_mode": {
    "name": "ipython",
    "version": 3
   },
   "file_extension": ".py",
   "mimetype": "text/x-python",
   "name": "python",
   "nbconvert_exporter": "python",
   "pygments_lexer": "ipython3",
   "version": "3.11.4"
  }
 },
 "nbformat": 4,
 "nbformat_minor": 5
}
